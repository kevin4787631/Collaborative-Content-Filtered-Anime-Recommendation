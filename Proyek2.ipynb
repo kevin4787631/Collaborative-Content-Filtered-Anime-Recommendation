{
  "nbformat": 4,
  "nbformat_minor": 0,
  "metadata": {
    "colab": {
      "name": "Proyek2.ipynb",
      "provenance": [],
      "collapsed_sections": [
        "YZxuVGdpmq-I",
        "YRtkkzRgrUZW",
        "PVkY2SF0rZ3Z",
        "ethIl1MRrzgi",
        "O_8wFSzsr5yo"
      ]
    },
    "kernelspec": {
      "name": "python3",
      "display_name": "Python 3"
    },
    "language_info": {
      "name": "python"
    },
    "accelerator": "GPU"
  },
  "cells": [
    {
      "cell_type": "markdown",
      "metadata": {
        "id": "30h4cdK5UObd"
      },
      "source": [
        "# Collaborative & Content Filtered Book Recommendation"
      ]
    },
    {
      "cell_type": "markdown",
      "metadata": {
        "id": "t8dI8L-1Ymts"
      },
      "source": [
        "Berdasarkan salah satu website berjudul [9 Benefits of Watching Anime That Makes You Smarter](https://animemotivation.com/benefits-of-watching-anime/), menonton anime dapat memberikan banyak keuntungan. Salah satunya adalah kita dapat mendapatkan pelajaran hidup dan mempelajari budaya Jepang."
      ]
    },
    {
      "cell_type": "markdown",
      "metadata": {
        "id": "CKVXEkswbMXf"
      },
      "source": [
        "<img src= \"https://wallpaperaccess.com/full/39033.png\" alt =\"Anime\">"
      ]
    },
    {
      "cell_type": "markdown",
      "metadata": {
        "id": "DzWitwCXcNn1"
      },
      "source": [
        "___\n",
        "# Importing Libraries and Dataset"
      ]
    },
    {
      "cell_type": "markdown",
      "metadata": {
        "id": "WmTXmsf_cOhJ"
      },
      "source": [
        "## Importing Libraries"
      ]
    },
    {
      "cell_type": "markdown",
      "metadata": {
        "id": "oQiq_ktScQJN"
      },
      "source": [
        "Kode berikut saya melakukan import libraries yang diperlukan pada proyek ini."
      ]
    },
    {
      "cell_type": "code",
      "metadata": {
        "id": "REJbdXsXI9h6"
      },
      "source": [
        "import pandas as pd\n",
        "import numpy as np \n",
        "import matplotlib.pyplot as plt\n",
        "import os"
      ],
      "execution_count": 2,
      "outputs": []
    },
    {
      "cell_type": "markdown",
      "metadata": {
        "id": "qUkwagl5caJf"
      },
      "source": [
        "Kode berikut saya menginstall library kaggle."
      ]
    },
    {
      "cell_type": "code",
      "metadata": {
        "id": "HgWgFKC622NY"
      },
      "source": [
        "! pip install -q kaggle"
      ],
      "execution_count": 3,
      "outputs": []
    },
    {
      "cell_type": "markdown",
      "metadata": {
        "id": "Ochk-okmco5g"
      },
      "source": [
        "Kode berikut saya import library files dan melakukan upload file kaggle API."
      ]
    },
    {
      "cell_type": "code",
      "metadata": {
        "colab": {
          "resources": {
            "http://localhost:8080/nbextensions/google.colab/files.js": {
              "data": "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",
              "ok": true,
              "headers": [
                [
                  "content-type",
                  "application/javascript"
                ]
              ],
              "status": 200,
              "status_text": ""
            }
          },
          "base_uri": "https://localhost:8080/",
          "height": 90
        },
        "id": "d5vfKvlsISdH",
        "outputId": "db47c763-635f-44ca-9363-a12418bc7b7b"
      },
      "source": [
        "from google.colab import files\n",
        "\n",
        "files.upload()"
      ],
      "execution_count": 4,
      "outputs": [
        {
          "output_type": "display_data",
          "data": {
            "text/html": [
              "\n",
              "     <input type=\"file\" id=\"files-4fd35a11-a3fd-4e98-8021-c69912f5cffd\" name=\"files[]\" multiple disabled\n",
              "        style=\"border:none\" />\n",
              "     <output id=\"result-4fd35a11-a3fd-4e98-8021-c69912f5cffd\">\n",
              "      Upload widget is only available when the cell has been executed in the\n",
              "      current browser session. Please rerun this cell to enable.\n",
              "      </output>\n",
              "      <script src=\"/nbextensions/google.colab/files.js\"></script> "
            ],
            "text/plain": [
              "<IPython.core.display.HTML object>"
            ]
          },
          "metadata": {}
        },
        {
          "output_type": "stream",
          "name": "stdout",
          "text": [
            "Saving kaggle.json to kaggle.json\n"
          ]
        },
        {
          "output_type": "execute_result",
          "data": {
            "text/plain": [
              "{'kaggle.json': b'{\"username\":\"kevin478763\",\"key\":\"7781ae22a3c268bc560d7a1c711049ae\"}'}"
            ]
          },
          "metadata": {},
          "execution_count": 4
        }
      ]
    },
    {
      "cell_type": "markdown",
      "metadata": {
        "id": "2jUUpsIbcxxF"
      },
      "source": [
        "Kode berikut saya membuat folder bernama kaggle dan memasukkan file yang sebelumnya saya upload ke dalam folder tersebut."
      ]
    },
    {
      "cell_type": "code",
      "metadata": {
        "id": "akMyKliRITTu"
      },
      "source": [
        "! mkdir ~/.kaggle\n",
        "\n",
        "! cp kaggle.json ~/.kaggle/"
      ],
      "execution_count": 5,
      "outputs": []
    },
    {
      "cell_type": "markdown",
      "metadata": {
        "id": "FQIIjcuedJOZ"
      },
      "source": [
        "Kode berikut saya memberi akses supaya dapat read dan write pada file kaggle."
      ]
    },
    {
      "cell_type": "code",
      "metadata": {
        "id": "EYvovwA0IVhX"
      },
      "source": [
        "! chmod 600 ~/.kaggle/kaggle.json"
      ],
      "execution_count": 6,
      "outputs": []
    },
    {
      "cell_type": "markdown",
      "metadata": {
        "id": "DoM9S8HXdTtI"
      },
      "source": [
        "Kode berikut saya men-*download* dataset yang terdapat di kaggle."
      ]
    },
    {
      "cell_type": "code",
      "metadata": {
        "colab": {
          "base_uri": "https://localhost:8080/"
        },
        "id": "uEs4zNT6IXi9",
        "outputId": "f324ce7f-94ab-4709-baa2-84af29ee755c"
      },
      "source": [
        "! kaggle datasets download hernan4444/anime-recommendation-database-2020"
      ],
      "execution_count": 7,
      "outputs": [
        {
          "output_type": "stream",
          "name": "stdout",
          "text": [
            "Downloading anime-recommendation-database-2020.zip to /content\n",
            " 99% 654M/661M [00:05<00:00, 127MB/s]\n",
            "100% 661M/661M [00:05<00:00, 118MB/s]\n"
          ]
        }
      ]
    },
    {
      "cell_type": "markdown",
      "metadata": {
        "id": "EySTATKFdbbA"
      },
      "source": [
        "Kode berikut saya mengimpor zipfile dan melakukan extract kepada dataset yang telah saya download sebelumnya."
      ]
    },
    {
      "cell_type": "code",
      "metadata": {
        "id": "N6qw8rUlJRTh"
      },
      "source": [
        "import zipfile,os\n",
        "\n",
        "localZip = '/content/anime-recommendation-database-2020.zip'\n",
        "zipRef = zipfile.ZipFile(localZip, 'r')\n",
        "zipRef.extractall('/temp/anime')\n",
        "zipRef.close()"
      ],
      "execution_count": 8,
      "outputs": []
    },
    {
      "cell_type": "markdown",
      "metadata": {
        "id": "6RmkmaDebfde"
      },
      "source": [
        "Kode berikut untuk melihat daftar folder yang terdapat dalam file zip yang sudah di-*extract* sebelumnya."
      ]
    },
    {
      "cell_type": "code",
      "metadata": {
        "colab": {
          "base_uri": "https://localhost:8080/"
        },
        "id": "rKttAINpJY7p",
        "outputId": "2db62023-4ec8-4c31-8785-f0df4e9e1af9"
      },
      "source": [
        "os.listdir('/temp/anime')"
      ],
      "execution_count": 9,
      "outputs": [
        {
          "output_type": "execute_result",
          "data": {
            "text/plain": [
              "['watching_status.csv',\n",
              " 'animelist.csv',\n",
              " 'anime.csv',\n",
              " 'anime_with_synopsis.csv',\n",
              " 'rating_complete.csv',\n",
              " 'html folder']"
            ]
          },
          "metadata": {},
          "execution_count": 9
        }
      ]
    },
    {
      "cell_type": "markdown",
      "metadata": {
        "id": "tQY_CzkMpQxv"
      },
      "source": [
        "## Importing Dataset"
      ]
    },
    {
      "cell_type": "markdown",
      "metadata": {
        "id": "kYn0pOocdsCK"
      },
      "source": [
        "Kode berikut digunakan untuk membaca anime.csv dan rating_complete.csv.\n",
        "Saya hanya menggunakan dua data ini dikarenakan animelist.csv merupakan gabungan anime.csv dan rating_complete, sedangkan watching_status.csv tidak mengandung data yang signifikan."
      ]
    },
    {
      "cell_type": "code",
      "metadata": {
        "id": "0TikI6w8JoBq"
      },
      "source": [
        "anime_dataset = pd.read_csv('/temp/anime/anime.csv')\n",
        "rating_dataset = pd.read_csv('/temp/anime/rating_complete.csv')"
      ],
      "execution_count": 10,
      "outputs": []
    },
    {
      "cell_type": "markdown",
      "metadata": {
        "id": "Sp09JtKbeIqE"
      },
      "source": [
        "Kode berikut digunakan untuk melihat bentuk dari dataset anime."
      ]
    },
    {
      "cell_type": "code",
      "metadata": {
        "colab": {
          "base_uri": "https://localhost:8080/"
        },
        "id": "k0uP9Q9SJoD6",
        "outputId": "ef7f9fc7-dafb-44ce-a28b-3f83e64e5864"
      },
      "source": [
        "anime_dataset.shape"
      ],
      "execution_count": 11,
      "outputs": [
        {
          "output_type": "execute_result",
          "data": {
            "text/plain": [
              "(17562, 35)"
            ]
          },
          "metadata": {},
          "execution_count": 11
        }
      ]
    },
    {
      "cell_type": "markdown",
      "metadata": {
        "id": "KYO_5t3SeMAC"
      },
      "source": [
        "Kode berikut digunakan untuk melihat bentuk dari dataset rating."
      ]
    },
    {
      "cell_type": "code",
      "metadata": {
        "colab": {
          "base_uri": "https://localhost:8080/"
        },
        "id": "eft8uTeXJoF0",
        "outputId": "e42ba12b-fd2a-4c02-f6d2-dd9af1574fc6"
      },
      "source": [
        "rating_dataset.shape"
      ],
      "execution_count": 12,
      "outputs": [
        {
          "output_type": "execute_result",
          "data": {
            "text/plain": [
              "(57633278, 3)"
            ]
          },
          "metadata": {},
          "execution_count": 12
        }
      ]
    },
    {
      "cell_type": "markdown",
      "metadata": {
        "id": "YZxuVGdpmq-I"
      },
      "source": [
        "# Data Preprocessing"
      ]
    },
    {
      "cell_type": "markdown",
      "metadata": {
        "id": "kaoK_ixteT4T"
      },
      "source": [
        "Kode berikut digunakan untuk melihat 5 kolom pertama dari rating dataset."
      ]
    },
    {
      "cell_type": "code",
      "metadata": {
        "colab": {
          "base_uri": "https://localhost:8080/",
          "height": 0
        },
        "id": "nSG4pmwbLZem",
        "outputId": "7f30a7bb-7672-4aec-94a3-06350e6e7373"
      },
      "source": [
        "rating_dataset.head()"
      ],
      "execution_count": 13,
      "outputs": [
        {
          "output_type": "execute_result",
          "data": {
            "text/html": [
              "<div>\n",
              "<style scoped>\n",
              "    .dataframe tbody tr th:only-of-type {\n",
              "        vertical-align: middle;\n",
              "    }\n",
              "\n",
              "    .dataframe tbody tr th {\n",
              "        vertical-align: top;\n",
              "    }\n",
              "\n",
              "    .dataframe thead th {\n",
              "        text-align: right;\n",
              "    }\n",
              "</style>\n",
              "<table border=\"1\" class=\"dataframe\">\n",
              "  <thead>\n",
              "    <tr style=\"text-align: right;\">\n",
              "      <th></th>\n",
              "      <th>user_id</th>\n",
              "      <th>anime_id</th>\n",
              "      <th>rating</th>\n",
              "    </tr>\n",
              "  </thead>\n",
              "  <tbody>\n",
              "    <tr>\n",
              "      <th>0</th>\n",
              "      <td>0</td>\n",
              "      <td>430</td>\n",
              "      <td>9</td>\n",
              "    </tr>\n",
              "    <tr>\n",
              "      <th>1</th>\n",
              "      <td>0</td>\n",
              "      <td>1004</td>\n",
              "      <td>5</td>\n",
              "    </tr>\n",
              "    <tr>\n",
              "      <th>2</th>\n",
              "      <td>0</td>\n",
              "      <td>3010</td>\n",
              "      <td>7</td>\n",
              "    </tr>\n",
              "    <tr>\n",
              "      <th>3</th>\n",
              "      <td>0</td>\n",
              "      <td>570</td>\n",
              "      <td>7</td>\n",
              "    </tr>\n",
              "    <tr>\n",
              "      <th>4</th>\n",
              "      <td>0</td>\n",
              "      <td>2762</td>\n",
              "      <td>9</td>\n",
              "    </tr>\n",
              "  </tbody>\n",
              "</table>\n",
              "</div>"
            ],
            "text/plain": [
              "   user_id  anime_id  rating\n",
              "0        0       430       9\n",
              "1        0      1004       5\n",
              "2        0      3010       7\n",
              "3        0       570       7\n",
              "4        0      2762       9"
            ]
          },
          "metadata": {},
          "execution_count": 13
        }
      ]
    },
    {
      "cell_type": "markdown",
      "metadata": {
        "id": "0galsoTaeXVl"
      },
      "source": [
        "Dikarenakan jumlah data yang sangat banyak, saya akan mengambil sebagian kecil saja dari dataset."
      ]
    },
    {
      "cell_type": "code",
      "metadata": {
        "id": "-EtI2fGELaYX"
      },
      "source": [
        "anime_dataset = anime_dataset[:10000]\n",
        "rating_dataset=rating_dataset[:30000]"
      ],
      "execution_count": 14,
      "outputs": []
    },
    {
      "cell_type": "markdown",
      "metadata": {
        "id": "IjWhd23-emdc"
      },
      "source": [
        "Kode berikut digunakan untuk melihat 5 kolom pertama dari rating dataset."
      ]
    },
    {
      "cell_type": "code",
      "metadata": {
        "colab": {
          "base_uri": "https://localhost:8080/",
          "height": 0
        },
        "id": "GrMky7ATLaaW",
        "outputId": "0cc2bbb5-e5c6-4928-e586-85faa9910da9"
      },
      "source": [
        "rating_dataset.head()"
      ],
      "execution_count": 15,
      "outputs": [
        {
          "output_type": "execute_result",
          "data": {
            "text/html": [
              "<div>\n",
              "<style scoped>\n",
              "    .dataframe tbody tr th:only-of-type {\n",
              "        vertical-align: middle;\n",
              "    }\n",
              "\n",
              "    .dataframe tbody tr th {\n",
              "        vertical-align: top;\n",
              "    }\n",
              "\n",
              "    .dataframe thead th {\n",
              "        text-align: right;\n",
              "    }\n",
              "</style>\n",
              "<table border=\"1\" class=\"dataframe\">\n",
              "  <thead>\n",
              "    <tr style=\"text-align: right;\">\n",
              "      <th></th>\n",
              "      <th>user_id</th>\n",
              "      <th>anime_id</th>\n",
              "      <th>rating</th>\n",
              "    </tr>\n",
              "  </thead>\n",
              "  <tbody>\n",
              "    <tr>\n",
              "      <th>0</th>\n",
              "      <td>0</td>\n",
              "      <td>430</td>\n",
              "      <td>9</td>\n",
              "    </tr>\n",
              "    <tr>\n",
              "      <th>1</th>\n",
              "      <td>0</td>\n",
              "      <td>1004</td>\n",
              "      <td>5</td>\n",
              "    </tr>\n",
              "    <tr>\n",
              "      <th>2</th>\n",
              "      <td>0</td>\n",
              "      <td>3010</td>\n",
              "      <td>7</td>\n",
              "    </tr>\n",
              "    <tr>\n",
              "      <th>3</th>\n",
              "      <td>0</td>\n",
              "      <td>570</td>\n",
              "      <td>7</td>\n",
              "    </tr>\n",
              "    <tr>\n",
              "      <th>4</th>\n",
              "      <td>0</td>\n",
              "      <td>2762</td>\n",
              "      <td>9</td>\n",
              "    </tr>\n",
              "  </tbody>\n",
              "</table>\n",
              "</div>"
            ],
            "text/plain": [
              "   user_id  anime_id  rating\n",
              "0        0       430       9\n",
              "1        0      1004       5\n",
              "2        0      3010       7\n",
              "3        0       570       7\n",
              "4        0      2762       9"
            ]
          },
          "metadata": {},
          "execution_count": 15
        }
      ]
    },
    {
      "cell_type": "markdown",
      "metadata": {
        "id": "BUoghqJ3e2Jh"
      },
      "source": [
        "Kode berikut digunakan untuk melihat 5 kolom pertama dari anime dataset."
      ]
    },
    {
      "cell_type": "code",
      "metadata": {
        "colab": {
          "base_uri": "https://localhost:8080/",
          "height": 0
        },
        "id": "5SzIfse8Lusn",
        "outputId": "8541abdd-3ad9-4726-c4ab-1476f2226b09"
      },
      "source": [
        "anime_dataset.head()"
      ],
      "execution_count": 16,
      "outputs": [
        {
          "output_type": "execute_result",
          "data": {
            "text/html": [
              "<div>\n",
              "<style scoped>\n",
              "    .dataframe tbody tr th:only-of-type {\n",
              "        vertical-align: middle;\n",
              "    }\n",
              "\n",
              "    .dataframe tbody tr th {\n",
              "        vertical-align: top;\n",
              "    }\n",
              "\n",
              "    .dataframe thead th {\n",
              "        text-align: right;\n",
              "    }\n",
              "</style>\n",
              "<table border=\"1\" class=\"dataframe\">\n",
              "  <thead>\n",
              "    <tr style=\"text-align: right;\">\n",
              "      <th></th>\n",
              "      <th>MAL_ID</th>\n",
              "      <th>Name</th>\n",
              "      <th>Score</th>\n",
              "      <th>Genres</th>\n",
              "      <th>English name</th>\n",
              "      <th>Japanese name</th>\n",
              "      <th>Type</th>\n",
              "      <th>Episodes</th>\n",
              "      <th>Aired</th>\n",
              "      <th>Premiered</th>\n",
              "      <th>Producers</th>\n",
              "      <th>Licensors</th>\n",
              "      <th>Studios</th>\n",
              "      <th>Source</th>\n",
              "      <th>Duration</th>\n",
              "      <th>Rating</th>\n",
              "      <th>Ranked</th>\n",
              "      <th>Popularity</th>\n",
              "      <th>Members</th>\n",
              "      <th>Favorites</th>\n",
              "      <th>Watching</th>\n",
              "      <th>Completed</th>\n",
              "      <th>On-Hold</th>\n",
              "      <th>Dropped</th>\n",
              "      <th>Plan to Watch</th>\n",
              "      <th>Score-10</th>\n",
              "      <th>Score-9</th>\n",
              "      <th>Score-8</th>\n",
              "      <th>Score-7</th>\n",
              "      <th>Score-6</th>\n",
              "      <th>Score-5</th>\n",
              "      <th>Score-4</th>\n",
              "      <th>Score-3</th>\n",
              "      <th>Score-2</th>\n",
              "      <th>Score-1</th>\n",
              "    </tr>\n",
              "  </thead>\n",
              "  <tbody>\n",
              "    <tr>\n",
              "      <th>0</th>\n",
              "      <td>1</td>\n",
              "      <td>Cowboy Bebop</td>\n",
              "      <td>8.78</td>\n",
              "      <td>Action, Adventure, Comedy, Drama, Sci-Fi, Space</td>\n",
              "      <td>Cowboy Bebop</td>\n",
              "      <td>カウボーイビバップ</td>\n",
              "      <td>TV</td>\n",
              "      <td>26</td>\n",
              "      <td>Apr 3, 1998 to Apr 24, 1999</td>\n",
              "      <td>Spring 1998</td>\n",
              "      <td>Bandai Visual</td>\n",
              "      <td>Funimation, Bandai Entertainment</td>\n",
              "      <td>Sunrise</td>\n",
              "      <td>Original</td>\n",
              "      <td>24 min. per ep.</td>\n",
              "      <td>R - 17+ (violence &amp; profanity)</td>\n",
              "      <td>28.0</td>\n",
              "      <td>39</td>\n",
              "      <td>1251960</td>\n",
              "      <td>61971</td>\n",
              "      <td>105808</td>\n",
              "      <td>718161</td>\n",
              "      <td>71513</td>\n",
              "      <td>26678</td>\n",
              "      <td>329800</td>\n",
              "      <td>229170.0</td>\n",
              "      <td>182126.0</td>\n",
              "      <td>131625.0</td>\n",
              "      <td>62330.0</td>\n",
              "      <td>20688.0</td>\n",
              "      <td>8904.0</td>\n",
              "      <td>3184.0</td>\n",
              "      <td>1357.0</td>\n",
              "      <td>741.0</td>\n",
              "      <td>1580.0</td>\n",
              "    </tr>\n",
              "    <tr>\n",
              "      <th>1</th>\n",
              "      <td>5</td>\n",
              "      <td>Cowboy Bebop: Tengoku no Tobira</td>\n",
              "      <td>8.39</td>\n",
              "      <td>Action, Drama, Mystery, Sci-Fi, Space</td>\n",
              "      <td>Cowboy Bebop:The Movie</td>\n",
              "      <td>カウボーイビバップ 天国の扉</td>\n",
              "      <td>Movie</td>\n",
              "      <td>1</td>\n",
              "      <td>Sep 1, 2001</td>\n",
              "      <td>Unknown</td>\n",
              "      <td>Sunrise, Bandai Visual</td>\n",
              "      <td>Sony Pictures Entertainment</td>\n",
              "      <td>Bones</td>\n",
              "      <td>Original</td>\n",
              "      <td>1 hr. 55 min.</td>\n",
              "      <td>R - 17+ (violence &amp; profanity)</td>\n",
              "      <td>159.0</td>\n",
              "      <td>518</td>\n",
              "      <td>273145</td>\n",
              "      <td>1174</td>\n",
              "      <td>4143</td>\n",
              "      <td>208333</td>\n",
              "      <td>1935</td>\n",
              "      <td>770</td>\n",
              "      <td>57964</td>\n",
              "      <td>30043.0</td>\n",
              "      <td>49201.0</td>\n",
              "      <td>49505.0</td>\n",
              "      <td>22632.0</td>\n",
              "      <td>5805.0</td>\n",
              "      <td>1877.0</td>\n",
              "      <td>577.0</td>\n",
              "      <td>221.0</td>\n",
              "      <td>109.0</td>\n",
              "      <td>379.0</td>\n",
              "    </tr>\n",
              "    <tr>\n",
              "      <th>2</th>\n",
              "      <td>6</td>\n",
              "      <td>Trigun</td>\n",
              "      <td>8.24</td>\n",
              "      <td>Action, Sci-Fi, Adventure, Comedy, Drama, Shounen</td>\n",
              "      <td>Trigun</td>\n",
              "      <td>トライガン</td>\n",
              "      <td>TV</td>\n",
              "      <td>26</td>\n",
              "      <td>Apr 1, 1998 to Sep 30, 1998</td>\n",
              "      <td>Spring 1998</td>\n",
              "      <td>Victor Entertainment</td>\n",
              "      <td>Funimation, Geneon Entertainment USA</td>\n",
              "      <td>Madhouse</td>\n",
              "      <td>Manga</td>\n",
              "      <td>24 min. per ep.</td>\n",
              "      <td>PG-13 - Teens 13 or older</td>\n",
              "      <td>266.0</td>\n",
              "      <td>201</td>\n",
              "      <td>558913</td>\n",
              "      <td>12944</td>\n",
              "      <td>29113</td>\n",
              "      <td>343492</td>\n",
              "      <td>25465</td>\n",
              "      <td>13925</td>\n",
              "      <td>146918</td>\n",
              "      <td>50229.0</td>\n",
              "      <td>75651.0</td>\n",
              "      <td>86142.0</td>\n",
              "      <td>49432.0</td>\n",
              "      <td>15376.0</td>\n",
              "      <td>5838.0</td>\n",
              "      <td>1965.0</td>\n",
              "      <td>664.0</td>\n",
              "      <td>316.0</td>\n",
              "      <td>533.0</td>\n",
              "    </tr>\n",
              "    <tr>\n",
              "      <th>3</th>\n",
              "      <td>7</td>\n",
              "      <td>Witch Hunter Robin</td>\n",
              "      <td>7.27</td>\n",
              "      <td>Action, Mystery, Police, Supernatural, Drama, ...</td>\n",
              "      <td>Witch Hunter Robin</td>\n",
              "      <td>Witch Hunter ROBIN (ウイッチハンターロビン)</td>\n",
              "      <td>TV</td>\n",
              "      <td>26</td>\n",
              "      <td>Jul 2, 2002 to Dec 24, 2002</td>\n",
              "      <td>Summer 2002</td>\n",
              "      <td>TV Tokyo, Bandai Visual, Dentsu, Victor Entert...</td>\n",
              "      <td>Funimation, Bandai Entertainment</td>\n",
              "      <td>Sunrise</td>\n",
              "      <td>Original</td>\n",
              "      <td>25 min. per ep.</td>\n",
              "      <td>PG-13 - Teens 13 or older</td>\n",
              "      <td>2481.0</td>\n",
              "      <td>1467</td>\n",
              "      <td>94683</td>\n",
              "      <td>587</td>\n",
              "      <td>4300</td>\n",
              "      <td>46165</td>\n",
              "      <td>5121</td>\n",
              "      <td>5378</td>\n",
              "      <td>33719</td>\n",
              "      <td>2182.0</td>\n",
              "      <td>4806.0</td>\n",
              "      <td>10128.0</td>\n",
              "      <td>11618.0</td>\n",
              "      <td>5709.0</td>\n",
              "      <td>2920.0</td>\n",
              "      <td>1083.0</td>\n",
              "      <td>353.0</td>\n",
              "      <td>164.0</td>\n",
              "      <td>131.0</td>\n",
              "    </tr>\n",
              "    <tr>\n",
              "      <th>4</th>\n",
              "      <td>8</td>\n",
              "      <td>Bouken Ou Beet</td>\n",
              "      <td>6.98</td>\n",
              "      <td>Adventure, Fantasy, Shounen, Supernatural</td>\n",
              "      <td>Beet the Vandel Buster</td>\n",
              "      <td>冒険王ビィト</td>\n",
              "      <td>TV</td>\n",
              "      <td>52</td>\n",
              "      <td>Sep 30, 2004 to Sep 29, 2005</td>\n",
              "      <td>Fall 2004</td>\n",
              "      <td>TV Tokyo, Dentsu</td>\n",
              "      <td>Unknown</td>\n",
              "      <td>Toei Animation</td>\n",
              "      <td>Manga</td>\n",
              "      <td>23 min. per ep.</td>\n",
              "      <td>PG - Children</td>\n",
              "      <td>3710.0</td>\n",
              "      <td>4369</td>\n",
              "      <td>13224</td>\n",
              "      <td>18</td>\n",
              "      <td>642</td>\n",
              "      <td>7314</td>\n",
              "      <td>766</td>\n",
              "      <td>1108</td>\n",
              "      <td>3394</td>\n",
              "      <td>312.0</td>\n",
              "      <td>529.0</td>\n",
              "      <td>1242.0</td>\n",
              "      <td>1713.0</td>\n",
              "      <td>1068.0</td>\n",
              "      <td>634.0</td>\n",
              "      <td>265.0</td>\n",
              "      <td>83.0</td>\n",
              "      <td>50.0</td>\n",
              "      <td>27.0</td>\n",
              "    </tr>\n",
              "  </tbody>\n",
              "</table>\n",
              "</div>"
            ],
            "text/plain": [
              "   MAL_ID                             Name Score  ... Score-3 Score-2 Score-1\n",
              "0       1                     Cowboy Bebop  8.78  ...  1357.0   741.0  1580.0\n",
              "1       5  Cowboy Bebop: Tengoku no Tobira  8.39  ...   221.0   109.0   379.0\n",
              "2       6                           Trigun  8.24  ...   664.0   316.0   533.0\n",
              "3       7               Witch Hunter Robin  7.27  ...   353.0   164.0   131.0\n",
              "4       8                   Bouken Ou Beet  6.98  ...    83.0    50.0    27.0\n",
              "\n",
              "[5 rows x 35 columns]"
            ]
          },
          "metadata": {},
          "execution_count": 16
        }
      ]
    },
    {
      "cell_type": "markdown",
      "metadata": {
        "id": "tlX-GcFxe_Gc"
      },
      "source": [
        "Kode berikut digunakan untuk mengidentifikasi anime yang mempunyai rating tertinggi, yaitu 10."
      ]
    },
    {
      "cell_type": "code",
      "metadata": {
        "id": "D6p1S6c9Luum"
      },
      "source": [
        "rating_dataset[rating_dataset.rating == max(rating_dataset.rating)]\n",
        "best_animeId = rating_dataset.anime_id[rating_dataset.rating == max(rating_dataset.rating)]\n",
        "best_animeId = list(dict.fromkeys(best_animeId))"
      ],
      "execution_count": 17,
      "outputs": []
    },
    {
      "cell_type": "markdown",
      "metadata": {
        "id": "1Wgoc_P6fLkS"
      },
      "source": [
        "Kode berikut digunakan memasukkan anime yang mempunyai rating 10 ke dalam variabel best_anime."
      ]
    },
    {
      "cell_type": "code",
      "metadata": {
        "id": "afK2G-EkLuwd"
      },
      "source": [
        "best_anime = []\n",
        "for i in best_animeId:\n",
        "    anime_name = anime_dataset.Name[anime_dataset.MAL_ID == i]\n",
        "    best_anime.append(anime_name)"
      ],
      "execution_count": 18,
      "outputs": []
    },
    {
      "cell_type": "markdown",
      "metadata": {
        "id": "5We_7BesfUcE"
      },
      "source": [
        "Kode berikut digunakan untuk melihat daftar 25 pertama dari variabel best_anime."
      ]
    },
    {
      "cell_type": "code",
      "metadata": {
        "colab": {
          "base_uri": "https://localhost:8080/"
        },
        "id": "yudJ5H-4LuyR",
        "outputId": "34741325-6f66-4175-b9a5-7dc87cb96513"
      },
      "source": [
        "best_anime[:25]"
      ],
      "execution_count": 19,
      "outputs": [
        {
          "output_type": "execute_result",
          "data": {
            "text/plain": [
              "[542    Hotaru no Haka\n",
              " Name: Name, dtype: object, 1427    Ghost Hunt\n",
              " Name: Name, dtype: object, 388    Tonari no Yamada-kun\n",
              " Name: Name, dtype: object, 2049    Toki wo Kakeru Shoujo\n",
              " Name: Name, dtype: object, Series([], Name: Name, dtype: object), 10    Naruto\n",
              " Name: Name, dtype: object, 1574    Naruto: Shippuuden\n",
              " Name: Name, dtype: object, 1431    Code Geass: Hangyaku no Lelouch\n",
              " Name: Name, dtype: object, 3971    Fullmetal Alchemist: Brotherhood\n",
              " Name: Name, dtype: object, 5683    Steins;Gate\n",
              " Name: Name, dtype: object, Series([], Name: Name, dtype: object), 176    Sen to Chihiro no Kamikakushi\n",
              " Name: Name, dtype: object, 7449    Shingeki no Kyojin\n",
              " Name: Name, dtype: object, 9383    Shingeki no Kyojin Season 2\n",
              " Name: Name, dtype: object, Series([], Name: Name, dtype: object), Series([], Name: Name, dtype: object), 6565    Steins;Gate Movie: Fuka Ryouiki no Déjà vu\n",
              " Name: Name, dtype: object, Series([], Name: Name, dtype: object), 1393    Death Note\n",
              " Name: Name, dtype: object, 2656    Code Geass: Hangyaku no Lelouch R2\n",
              " Name: Name, dtype: object, 239    Hajime no Ippo\n",
              " Name: Name, dtype: object, 6474    Hunter x Hunter (2011)\n",
              " Name: Name, dtype: object, 7769    Golden Time\n",
              " Name: Name, dtype: object, 4018    Kara no Kyoukai 7: Satsujin Kousatsu (Go)\n",
              " Name: Name, dtype: object, 4429    Kimi ni Todoke\n",
              " Name: Name, dtype: object]"
            ]
          },
          "metadata": {},
          "execution_count": 19
        }
      ]
    },
    {
      "cell_type": "markdown",
      "metadata": {
        "id": "hVPogq36fcwB"
      },
      "source": [
        "Kode berikut digunakan untuk melihat jumlah anime yang memiliki rating 10."
      ]
    },
    {
      "cell_type": "code",
      "metadata": {
        "colab": {
          "base_uri": "https://localhost:8080/"
        },
        "id": "mhDfqZnaJIAF",
        "outputId": "0740bac4-5142-49b3-b7cf-41325c225c8e"
      },
      "source": [
        "len(best_anime)"
      ],
      "execution_count": 20,
      "outputs": [
        {
          "output_type": "execute_result",
          "data": {
            "text/plain": [
              "1452"
            ]
          },
          "metadata": {},
          "execution_count": 20
        }
      ]
    },
    {
      "cell_type": "markdown",
      "metadata": {
        "id": "EvYU6kZsff46"
      },
      "source": [
        "Kode berikut digunakan untuk melihat diagram yang menunjukkan rating yang diberikan oleh pengguna. "
      ]
    },
    {
      "cell_type": "code",
      "metadata": {
        "colab": {
          "base_uri": "https://localhost:8080/",
          "height": 0
        },
        "id": "2VBNeSSyXehf",
        "outputId": "5c4e0a57-524a-4f0c-fce8-ee2f461584b1"
      },
      "source": [
        "count = rating_dataset[\"rating\"].value_counts()\n",
        "count.plot(kind='pie', title=\"Rating\");\n",
        " \n",
        "plt.show()"
      ],
      "execution_count": 21,
      "outputs": [
        {
          "output_type": "display_data",
          "data": {
            "image/png": "[encoded data removed]",
            "text/plain": [
              "<Figure size 432x288 with 1 Axes>"
            ]
          },
          "metadata": {}
        }
      ]
    },
    {
      "cell_type": "markdown",
      "metadata": {
        "id": "BH8ZONeGfuO6"
      },
      "source": [
        "Kode berikut digunakan untuk melihat diagram kapan sebuah anime ditayangkan."
      ]
    },
    {
      "cell_type": "code",
      "metadata": {
        "colab": {
          "base_uri": "https://localhost:8080/",
          "height": 0
        },
        "id": "fNwNcODkXiAG",
        "outputId": "ca80d7e8-91f2-44ee-f5ec-30eb1b2a7686"
      },
      "source": [
        "count = anime_dataset[\"Premiered\"].value_counts()\n",
        "count.plot(kind='pie');\n",
        " \n",
        "plt.show()"
      ],
      "execution_count": 22,
      "outputs": [
        {
          "output_type": "display_data",
          "data": {
            "image/png": "[encoded data removed]",
            "text/plain": [
              "<Figure size 432x288 with 1 Axes>"
            ]
          },
          "metadata": {}
        }
      ]
    },
    {
      "cell_type": "markdown",
      "metadata": {
        "id": "iLgFvRTRf3wn"
      },
      "source": [
        "Kode berikut digunakan untuk melihat pairplot pada dataset rating."
      ]
    },
    {
      "cell_type": "code",
      "metadata": {
        "colab": {
          "base_uri": "https://localhost:8080/",
          "height": 0
        },
        "id": "t9Ap6sGxc0II",
        "outputId": "71c17d40-c30e-48f4-a770-c8826bbcd868"
      },
      "source": [
        "import seaborn as sns\n",
        "sns.pairplot(rating_dataset, diag_kind = 'kde')"
      ],
      "execution_count": 23,
      "outputs": [
        {
          "output_type": "execute_result",
          "data": {
            "text/plain": [
              "<seaborn.axisgrid.PairGrid at 0x7f6847431610>"
            ]
          },
          "metadata": {},
          "execution_count": 23
        },
        {
          "output_type": "display_data",
          "data": {
            "image/png": "[encoded data removed]",
            "text/plain": [
              "<Figure size 540x540 with 12 Axes>"
            ]
          },
          "metadata": {
            "needs_background": "light"
          }
        }
      ]
    },
    {
      "cell_type": "markdown",
      "metadata": {
        "id": "mau8aYyPqfXW"
      },
      "source": [
        "\n",
        "# Content Filtered Recommendation System"
      ]
    },
    {
      "cell_type": "markdown",
      "metadata": {
        "id": "przYv3Nbqfc_"
      },
      "source": [
        "Content-based filtering adalah sebuah tipe sistem rekomendasi yang mencoba untuk menebak apa yang mungkin pengguna sukai berdasarkan aktivitas pengguna tersebut. Content-based filtering membuat rekomendasi dengan menggunakan kata kunci dan atribut yang ditentukan ke objek dalam sebuah database."
      ]
    },
    {
      "cell_type": "markdown",
      "metadata": {
        "id": "YRtkkzRgrUZW"
      },
      "source": [
        "##Data preparation"
      ]
    },
    {
      "cell_type": "markdown",
      "metadata": {
        "id": "lD5925kgf-YC"
      },
      "source": [
        "Kode berikut digunakan untuk drop nilai NaN pada semua dataset."
      ]
    },
    {
      "cell_type": "code",
      "metadata": {
        "id": "q0GeYEmWdQGA"
      },
      "source": [
        "anime_dataset = anime_dataset.dropna()\n",
        "rating_dataset = rating_dataset.dropna()"
      ],
      "execution_count": 24,
      "outputs": []
    },
    {
      "cell_type": "markdown",
      "metadata": {
        "id": "QvPFJYf2gDBi"
      },
      "source": [
        "Kode berikut digunakan untuk drop kolom-kolom yang memiliki nilai Unknkown pada dataset."
      ]
    },
    {
      "cell_type": "code",
      "metadata": {
        "id": "9scNIu4YXu9o"
      },
      "source": [
        "anime_dataset = anime_dataset[anime_dataset.Premiered != \"Unknown\"]\n",
        "anime_dataset = anime_dataset[anime_dataset.Studios != \"Unknown\"]"
      ],
      "execution_count": 25,
      "outputs": []
    },
    {
      "cell_type": "markdown",
      "metadata": {
        "id": "ORCd7EB_gJcD"
      },
      "source": [
        "Kode berikut digunakan untuk menampilkan diagram kapan sebuah anime ditayangkan setelah melakukan cleaning dataset."
      ]
    },
    {
      "cell_type": "code",
      "metadata": {
        "colab": {
          "base_uri": "https://localhost:8080/",
          "height": 248
        },
        "id": "HOU0AZRnaExe",
        "outputId": "9ec761b0-e5e3-46b0-be5a-85a08ac6a109"
      },
      "source": [
        "count = anime_dataset[\"Premiered\"].value_counts()\n",
        "count.plot(kind='pie');\n",
        " \n",
        "plt.show()"
      ],
      "execution_count": 26,
      "outputs": [
        {
          "output_type": "display_data",
          "data": {
            "image/png": "[encoded data removed]",
            "text/plain": [
              "<Figure size 432x288 with 1 Axes>"
            ]
          },
          "metadata": {}
        }
      ]
    },
    {
      "cell_type": "markdown",
      "metadata": {
        "id": "ZSogQll4gQhH"
      },
      "source": [
        "Kode berikut digunakan untuk melihat nilai null pada dataset anime."
      ]
    },
    {
      "cell_type": "code",
      "metadata": {
        "colab": {
          "base_uri": "https://localhost:8080/"
        },
        "id": "qRKCZKY-e2mn",
        "outputId": "1f6167f5-286e-4502-8f5a-7a774ffbcf15"
      },
      "source": [
        "anime_dataset.isnull().sum()"
      ],
      "execution_count": 27,
      "outputs": [
        {
          "output_type": "execute_result",
          "data": {
            "text/plain": [
              "MAL_ID           0\n",
              "Name             0\n",
              "Score            0\n",
              "Genres           0\n",
              "English name     0\n",
              "Japanese name    0\n",
              "Type             0\n",
              "Episodes         0\n",
              "Aired            0\n",
              "Premiered        0\n",
              "Producers        0\n",
              "Licensors        0\n",
              "Studios          0\n",
              "Source           0\n",
              "Duration         0\n",
              "Rating           0\n",
              "Ranked           0\n",
              "Popularity       0\n",
              "Members          0\n",
              "Favorites        0\n",
              "Watching         0\n",
              "Completed        0\n",
              "On-Hold          0\n",
              "Dropped          0\n",
              "Plan to Watch    0\n",
              "Score-10         0\n",
              "Score-9          0\n",
              "Score-8          0\n",
              "Score-7          0\n",
              "Score-6          0\n",
              "Score-5          0\n",
              "Score-4          0\n",
              "Score-3          0\n",
              "Score-2          0\n",
              "Score-1          0\n",
              "dtype: int64"
            ]
          },
          "metadata": {},
          "execution_count": 27
        }
      ]
    },
    {
      "cell_type": "markdown",
      "metadata": {
        "id": "7uKmCfXJgWip"
      },
      "source": [
        "Kode berikut digunakan untuk melihat nilai null pada dataset rating."
      ]
    },
    {
      "cell_type": "code",
      "metadata": {
        "colab": {
          "base_uri": "https://localhost:8080/"
        },
        "id": "4F2szardfAPf",
        "outputId": "3418f350-dd8b-4051-b6c1-f64fd42f7236"
      },
      "source": [
        "rating_dataset.isnull().sum()"
      ],
      "execution_count": 28,
      "outputs": [
        {
          "output_type": "execute_result",
          "data": {
            "text/plain": [
              "user_id     0\n",
              "anime_id    0\n",
              "rating      0\n",
              "dtype: int64"
            ]
          },
          "metadata": {},
          "execution_count": 28
        }
      ]
    },
    {
      "cell_type": "markdown",
      "metadata": {
        "id": "BKlWTP7bADuL"
      },
      "source": [
        "Karena kedua dataset sudah tidak memiliki nilai null maka dipastikan dataset sudah bersih."
      ]
    },
    {
      "cell_type": "markdown",
      "metadata": {
        "id": "Llq74O4UgZND"
      },
      "source": [
        "Kode berikut digunakan untuk melakukan drop kolom yang memiliki duplikat."
      ]
    },
    {
      "cell_type": "code",
      "metadata": {
        "id": "8INYwxdQfj7H"
      },
      "source": [
        "rating_dataset = rating_dataset.drop_duplicates()\n",
        "anime_dataset = anime_dataset.drop_duplicates()"
      ],
      "execution_count": 29,
      "outputs": []
    },
    {
      "cell_type": "markdown",
      "metadata": {
        "id": "NJgcwbR6gcaZ"
      },
      "source": [
        "Kode berikut digunakan untuk melihat bentuk dataset anime setelah cleaning."
      ]
    },
    {
      "cell_type": "code",
      "metadata": {
        "colab": {
          "base_uri": "https://localhost:8080/"
        },
        "id": "T7WcNrWQfwh_",
        "outputId": "29a3a724-8695-4f3c-f115-2d618f9ef0cc"
      },
      "source": [
        "anime_dataset.shape"
      ],
      "execution_count": 30,
      "outputs": [
        {
          "output_type": "execute_result",
          "data": {
            "text/plain": [
              "(2764, 35)"
            ]
          },
          "metadata": {},
          "execution_count": 30
        }
      ]
    },
    {
      "cell_type": "markdown",
      "metadata": {
        "id": "KfMrbQUYgnV7"
      },
      "source": [
        "Kode berikut digunakan untuk melihat bentuk dataset rating setelah cleaning."
      ]
    },
    {
      "cell_type": "code",
      "metadata": {
        "colab": {
          "base_uri": "https://localhost:8080/"
        },
        "id": "mO8yynDEf3Wm",
        "outputId": "82629eba-f6a3-4ec0-d281-3762e36f042a"
      },
      "source": [
        "rating_dataset.shape"
      ],
      "execution_count": 31,
      "outputs": [
        {
          "output_type": "execute_result",
          "data": {
            "text/plain": [
              "(30000, 3)"
            ]
          },
          "metadata": {},
          "execution_count": 31
        }
      ]
    },
    {
      "cell_type": "markdown",
      "metadata": {
        "id": "jMQByM9ZgoxT"
      },
      "source": [
        "Kode berikut digunakan untuk melihat daftar 5 pertama dari dataset anime."
      ]
    },
    {
      "cell_type": "code",
      "metadata": {
        "colab": {
          "base_uri": "https://localhost:8080/",
          "height": 677
        },
        "id": "_Bjee_0yf4nH",
        "outputId": "cdbf5d14-d85a-4649-f0e8-a67832850eee"
      },
      "source": [
        "anime_dataset.head()"
      ],
      "execution_count": 32,
      "outputs": [
        {
          "output_type": "execute_result",
          "data": {
            "text/html": [
              "<div>\n",
              "<style scoped>\n",
              "    .dataframe tbody tr th:only-of-type {\n",
              "        vertical-align: middle;\n",
              "    }\n",
              "\n",
              "    .dataframe tbody tr th {\n",
              "        vertical-align: top;\n",
              "    }\n",
              "\n",
              "    .dataframe thead th {\n",
              "        text-align: right;\n",
              "    }\n",
              "</style>\n",
              "<table border=\"1\" class=\"dataframe\">\n",
              "  <thead>\n",
              "    <tr style=\"text-align: right;\">\n",
              "      <th></th>\n",
              "      <th>MAL_ID</th>\n",
              "      <th>Name</th>\n",
              "      <th>Score</th>\n",
              "      <th>Genres</th>\n",
              "      <th>English name</th>\n",
              "      <th>Japanese name</th>\n",
              "      <th>Type</th>\n",
              "      <th>Episodes</th>\n",
              "      <th>Aired</th>\n",
              "      <th>Premiered</th>\n",
              "      <th>Producers</th>\n",
              "      <th>Licensors</th>\n",
              "      <th>Studios</th>\n",
              "      <th>Source</th>\n",
              "      <th>Duration</th>\n",
              "      <th>Rating</th>\n",
              "      <th>Ranked</th>\n",
              "      <th>Popularity</th>\n",
              "      <th>Members</th>\n",
              "      <th>Favorites</th>\n",
              "      <th>Watching</th>\n",
              "      <th>Completed</th>\n",
              "      <th>On-Hold</th>\n",
              "      <th>Dropped</th>\n",
              "      <th>Plan to Watch</th>\n",
              "      <th>Score-10</th>\n",
              "      <th>Score-9</th>\n",
              "      <th>Score-8</th>\n",
              "      <th>Score-7</th>\n",
              "      <th>Score-6</th>\n",
              "      <th>Score-5</th>\n",
              "      <th>Score-4</th>\n",
              "      <th>Score-3</th>\n",
              "      <th>Score-2</th>\n",
              "      <th>Score-1</th>\n",
              "    </tr>\n",
              "  </thead>\n",
              "  <tbody>\n",
              "    <tr>\n",
              "      <th>0</th>\n",
              "      <td>1</td>\n",
              "      <td>Cowboy Bebop</td>\n",
              "      <td>8.78</td>\n",
              "      <td>Action, Adventure, Comedy, Drama, Sci-Fi, Space</td>\n",
              "      <td>Cowboy Bebop</td>\n",
              "      <td>カウボーイビバップ</td>\n",
              "      <td>TV</td>\n",
              "      <td>26</td>\n",
              "      <td>Apr 3, 1998 to Apr 24, 1999</td>\n",
              "      <td>Spring 1998</td>\n",
              "      <td>Bandai Visual</td>\n",
              "      <td>Funimation, Bandai Entertainment</td>\n",
              "      <td>Sunrise</td>\n",
              "      <td>Original</td>\n",
              "      <td>24 min. per ep.</td>\n",
              "      <td>R - 17+ (violence &amp; profanity)</td>\n",
              "      <td>28.0</td>\n",
              "      <td>39</td>\n",
              "      <td>1251960</td>\n",
              "      <td>61971</td>\n",
              "      <td>105808</td>\n",
              "      <td>718161</td>\n",
              "      <td>71513</td>\n",
              "      <td>26678</td>\n",
              "      <td>329800</td>\n",
              "      <td>229170.0</td>\n",
              "      <td>182126.0</td>\n",
              "      <td>131625.0</td>\n",
              "      <td>62330.0</td>\n",
              "      <td>20688.0</td>\n",
              "      <td>8904.0</td>\n",
              "      <td>3184.0</td>\n",
              "      <td>1357.0</td>\n",
              "      <td>741.0</td>\n",
              "      <td>1580.0</td>\n",
              "    </tr>\n",
              "    <tr>\n",
              "      <th>2</th>\n",
              "      <td>6</td>\n",
              "      <td>Trigun</td>\n",
              "      <td>8.24</td>\n",
              "      <td>Action, Sci-Fi, Adventure, Comedy, Drama, Shounen</td>\n",
              "      <td>Trigun</td>\n",
              "      <td>トライガン</td>\n",
              "      <td>TV</td>\n",
              "      <td>26</td>\n",
              "      <td>Apr 1, 1998 to Sep 30, 1998</td>\n",
              "      <td>Spring 1998</td>\n",
              "      <td>Victor Entertainment</td>\n",
              "      <td>Funimation, Geneon Entertainment USA</td>\n",
              "      <td>Madhouse</td>\n",
              "      <td>Manga</td>\n",
              "      <td>24 min. per ep.</td>\n",
              "      <td>PG-13 - Teens 13 or older</td>\n",
              "      <td>266.0</td>\n",
              "      <td>201</td>\n",
              "      <td>558913</td>\n",
              "      <td>12944</td>\n",
              "      <td>29113</td>\n",
              "      <td>343492</td>\n",
              "      <td>25465</td>\n",
              "      <td>13925</td>\n",
              "      <td>146918</td>\n",
              "      <td>50229.0</td>\n",
              "      <td>75651.0</td>\n",
              "      <td>86142.0</td>\n",
              "      <td>49432.0</td>\n",
              "      <td>15376.0</td>\n",
              "      <td>5838.0</td>\n",
              "      <td>1965.0</td>\n",
              "      <td>664.0</td>\n",
              "      <td>316.0</td>\n",
              "      <td>533.0</td>\n",
              "    </tr>\n",
              "    <tr>\n",
              "      <th>3</th>\n",
              "      <td>7</td>\n",
              "      <td>Witch Hunter Robin</td>\n",
              "      <td>7.27</td>\n",
              "      <td>Action, Mystery, Police, Supernatural, Drama, ...</td>\n",
              "      <td>Witch Hunter Robin</td>\n",
              "      <td>Witch Hunter ROBIN (ウイッチハンターロビン)</td>\n",
              "      <td>TV</td>\n",
              "      <td>26</td>\n",
              "      <td>Jul 2, 2002 to Dec 24, 2002</td>\n",
              "      <td>Summer 2002</td>\n",
              "      <td>TV Tokyo, Bandai Visual, Dentsu, Victor Entert...</td>\n",
              "      <td>Funimation, Bandai Entertainment</td>\n",
              "      <td>Sunrise</td>\n",
              "      <td>Original</td>\n",
              "      <td>25 min. per ep.</td>\n",
              "      <td>PG-13 - Teens 13 or older</td>\n",
              "      <td>2481.0</td>\n",
              "      <td>1467</td>\n",
              "      <td>94683</td>\n",
              "      <td>587</td>\n",
              "      <td>4300</td>\n",
              "      <td>46165</td>\n",
              "      <td>5121</td>\n",
              "      <td>5378</td>\n",
              "      <td>33719</td>\n",
              "      <td>2182.0</td>\n",
              "      <td>4806.0</td>\n",
              "      <td>10128.0</td>\n",
              "      <td>11618.0</td>\n",
              "      <td>5709.0</td>\n",
              "      <td>2920.0</td>\n",
              "      <td>1083.0</td>\n",
              "      <td>353.0</td>\n",
              "      <td>164.0</td>\n",
              "      <td>131.0</td>\n",
              "    </tr>\n",
              "    <tr>\n",
              "      <th>4</th>\n",
              "      <td>8</td>\n",
              "      <td>Bouken Ou Beet</td>\n",
              "      <td>6.98</td>\n",
              "      <td>Adventure, Fantasy, Shounen, Supernatural</td>\n",
              "      <td>Beet the Vandel Buster</td>\n",
              "      <td>冒険王ビィト</td>\n",
              "      <td>TV</td>\n",
              "      <td>52</td>\n",
              "      <td>Sep 30, 2004 to Sep 29, 2005</td>\n",
              "      <td>Fall 2004</td>\n",
              "      <td>TV Tokyo, Dentsu</td>\n",
              "      <td>Unknown</td>\n",
              "      <td>Toei Animation</td>\n",
              "      <td>Manga</td>\n",
              "      <td>23 min. per ep.</td>\n",
              "      <td>PG - Children</td>\n",
              "      <td>3710.0</td>\n",
              "      <td>4369</td>\n",
              "      <td>13224</td>\n",
              "      <td>18</td>\n",
              "      <td>642</td>\n",
              "      <td>7314</td>\n",
              "      <td>766</td>\n",
              "      <td>1108</td>\n",
              "      <td>3394</td>\n",
              "      <td>312.0</td>\n",
              "      <td>529.0</td>\n",
              "      <td>1242.0</td>\n",
              "      <td>1713.0</td>\n",
              "      <td>1068.0</td>\n",
              "      <td>634.0</td>\n",
              "      <td>265.0</td>\n",
              "      <td>83.0</td>\n",
              "      <td>50.0</td>\n",
              "      <td>27.0</td>\n",
              "    </tr>\n",
              "    <tr>\n",
              "      <th>5</th>\n",
              "      <td>15</td>\n",
              "      <td>Eyeshield 21</td>\n",
              "      <td>7.95</td>\n",
              "      <td>Action, Sports, Comedy, Shounen</td>\n",
              "      <td>Unknown</td>\n",
              "      <td>アイシールド21</td>\n",
              "      <td>TV</td>\n",
              "      <td>145</td>\n",
              "      <td>Apr 6, 2005 to Mar 19, 2008</td>\n",
              "      <td>Spring 2005</td>\n",
              "      <td>TV Tokyo, Nihon Ad Systems, TV Tokyo Music, Sh...</td>\n",
              "      <td>VIZ Media, Sentai Filmworks</td>\n",
              "      <td>Gallop</td>\n",
              "      <td>Manga</td>\n",
              "      <td>23 min. per ep.</td>\n",
              "      <td>PG-13 - Teens 13 or older</td>\n",
              "      <td>604.0</td>\n",
              "      <td>1003</td>\n",
              "      <td>148259</td>\n",
              "      <td>2066</td>\n",
              "      <td>13907</td>\n",
              "      <td>78349</td>\n",
              "      <td>14228</td>\n",
              "      <td>11573</td>\n",
              "      <td>30202</td>\n",
              "      <td>9226.0</td>\n",
              "      <td>14904.0</td>\n",
              "      <td>22811.0</td>\n",
              "      <td>16734.0</td>\n",
              "      <td>6206.0</td>\n",
              "      <td>2621.0</td>\n",
              "      <td>795.0</td>\n",
              "      <td>336.0</td>\n",
              "      <td>140.0</td>\n",
              "      <td>151.0</td>\n",
              "    </tr>\n",
              "  </tbody>\n",
              "</table>\n",
              "</div>"
            ],
            "text/plain": [
              "   MAL_ID                Name Score  ... Score-3 Score-2 Score-1\n",
              "0       1        Cowboy Bebop  8.78  ...  1357.0   741.0  1580.0\n",
              "2       6              Trigun  8.24  ...   664.0   316.0   533.0\n",
              "3       7  Witch Hunter Robin  7.27  ...   353.0   164.0   131.0\n",
              "4       8      Bouken Ou Beet  6.98  ...    83.0    50.0    27.0\n",
              "5      15        Eyeshield 21  7.95  ...   336.0   140.0   151.0\n",
              "\n",
              "[5 rows x 35 columns]"
            ]
          },
          "metadata": {},
          "execution_count": 32
        }
      ]
    },
    {
      "cell_type": "markdown",
      "metadata": {
        "id": "ByI_D6kzgshi"
      },
      "source": [
        "Kode berikut digunakan untuk menampung data-data yang penting dari dataset anime ke dalam list."
      ]
    },
    {
      "cell_type": "code",
      "metadata": {
        "id": "z2h6o63rf9Cv"
      },
      "source": [
        "anime_name = anime_dataset.Name.tolist()\n",
        "anime_id = anime_dataset.MAL_ID.tolist()\n",
        "anime_studio = anime_dataset.Studios.tolist()\n",
        "anime_premiered = anime_dataset.Premiered.tolist()"
      ],
      "execution_count": 33,
      "outputs": []
    },
    {
      "cell_type": "markdown",
      "metadata": {
        "id": "4qh6i2Yng04D"
      },
      "source": [
        "Kode berikut digunakan untuk membuat dataframe baru dari variabel-variabel yang sudah dibuat sebelumnya."
      ]
    },
    {
      "cell_type": "code",
      "metadata": {
        "colab": {
          "base_uri": "https://localhost:8080/",
          "height": 417
        },
        "id": "Yq8UjB9jgM_4",
        "outputId": "1a42cdb5-7a9e-45f0-e3c1-a725d9eeca6d"
      },
      "source": [
        "anime = pd.DataFrame({\n",
        "    'anime_id': anime_id,\n",
        "    'anime_name': anime_name,\n",
        "    'studio': anime_studio,\n",
        "    'premiered': anime_premiered\n",
        "})\n",
        "anime"
      ],
      "execution_count": 34,
      "outputs": [
        {
          "output_type": "execute_result",
          "data": {
            "text/html": [
              "<div>\n",
              "<style scoped>\n",
              "    .dataframe tbody tr th:only-of-type {\n",
              "        vertical-align: middle;\n",
              "    }\n",
              "\n",
              "    .dataframe tbody tr th {\n",
              "        vertical-align: top;\n",
              "    }\n",
              "\n",
              "    .dataframe thead th {\n",
              "        text-align: right;\n",
              "    }\n",
              "</style>\n",
              "<table border=\"1\" class=\"dataframe\">\n",
              "  <thead>\n",
              "    <tr style=\"text-align: right;\">\n",
              "      <th></th>\n",
              "      <th>anime_id</th>\n",
              "      <th>anime_name</th>\n",
              "      <th>studio</th>\n",
              "      <th>premiered</th>\n",
              "    </tr>\n",
              "  </thead>\n",
              "  <tbody>\n",
              "    <tr>\n",
              "      <th>0</th>\n",
              "      <td>1</td>\n",
              "      <td>Cowboy Bebop</td>\n",
              "      <td>Sunrise</td>\n",
              "      <td>Spring 1998</td>\n",
              "    </tr>\n",
              "    <tr>\n",
              "      <th>1</th>\n",
              "      <td>6</td>\n",
              "      <td>Trigun</td>\n",
              "      <td>Madhouse</td>\n",
              "      <td>Spring 1998</td>\n",
              "    </tr>\n",
              "    <tr>\n",
              "      <th>2</th>\n",
              "      <td>7</td>\n",
              "      <td>Witch Hunter Robin</td>\n",
              "      <td>Sunrise</td>\n",
              "      <td>Summer 2002</td>\n",
              "    </tr>\n",
              "    <tr>\n",
              "      <th>3</th>\n",
              "      <td>8</td>\n",
              "      <td>Bouken Ou Beet</td>\n",
              "      <td>Toei Animation</td>\n",
              "      <td>Fall 2004</td>\n",
              "    </tr>\n",
              "    <tr>\n",
              "      <th>4</th>\n",
              "      <td>15</td>\n",
              "      <td>Eyeshield 21</td>\n",
              "      <td>Gallop</td>\n",
              "      <td>Spring 2005</td>\n",
              "    </tr>\n",
              "    <tr>\n",
              "      <th>...</th>\n",
              "      <td>...</td>\n",
              "      <td>...</td>\n",
              "      <td>...</td>\n",
              "      <td>...</td>\n",
              "    </tr>\n",
              "    <tr>\n",
              "      <th>2759</th>\n",
              "      <td>29067</td>\n",
              "      <td>Danna ga Nani wo Itteiru ka Wakaranai Ken 2 Su...</td>\n",
              "      <td>Seven</td>\n",
              "      <td>Spring 2015</td>\n",
              "    </tr>\n",
              "    <tr>\n",
              "      <th>2760</th>\n",
              "      <td>29095</td>\n",
              "      <td>Grisaia no Rakuen</td>\n",
              "      <td>8bit</td>\n",
              "      <td>Spring 2015</td>\n",
              "    </tr>\n",
              "    <tr>\n",
              "      <th>2761</th>\n",
              "      <td>29099</td>\n",
              "      <td>Washimo 2nd Season</td>\n",
              "      <td>Studio Deen</td>\n",
              "      <td>Winter 2015</td>\n",
              "    </tr>\n",
              "    <tr>\n",
              "      <th>2762</th>\n",
              "      <td>29163</td>\n",
              "      <td>Sore ga Seiyuu!</td>\n",
              "      <td>Gonzo</td>\n",
              "      <td>Summer 2015</td>\n",
              "    </tr>\n",
              "    <tr>\n",
              "      <th>2763</th>\n",
              "      <td>29325</td>\n",
              "      <td>Koukaku Kidoutai Arise: Alternative Architecture</td>\n",
              "      <td>Production I.G</td>\n",
              "      <td>Spring 2015</td>\n",
              "    </tr>\n",
              "  </tbody>\n",
              "</table>\n",
              "<p>2764 rows × 4 columns</p>\n",
              "</div>"
            ],
            "text/plain": [
              "      anime_id  ...    premiered\n",
              "0            1  ...  Spring 1998\n",
              "1            6  ...  Spring 1998\n",
              "2            7  ...  Summer 2002\n",
              "3            8  ...    Fall 2004\n",
              "4           15  ...  Spring 2005\n",
              "...        ...  ...          ...\n",
              "2759     29067  ...  Spring 2015\n",
              "2760     29095  ...  Spring 2015\n",
              "2761     29099  ...  Winter 2015\n",
              "2762     29163  ...  Summer 2015\n",
              "2763     29325  ...  Spring 2015\n",
              "\n",
              "[2764 rows x 4 columns]"
            ]
          },
          "metadata": {},
          "execution_count": 34
        }
      ]
    },
    {
      "cell_type": "markdown",
      "metadata": {
        "id": "PVkY2SF0rZ3Z"
      },
      "source": [
        "## Modeling"
      ]
    },
    {
      "cell_type": "markdown",
      "metadata": {
        "id": "lCq4TMybg6PC"
      },
      "source": [
        "Kode berikut digunakan untuk mengidentifikasi kata-kata penting dari nama studio sebuah anime."
      ]
    },
    {
      "cell_type": "code",
      "metadata": {
        "colab": {
          "base_uri": "https://localhost:8080/"
        },
        "id": "d0vxq62bg723",
        "outputId": "cf77e38d-5d15-40ea-b063-c091227f517a"
      },
      "source": [
        "from sklearn.feature_extraction.text import TfidfVectorizer\n",
        "\n",
        "tf = TfidfVectorizer()\n",
        "tf.fit(anime['studio']) \n",
        "tf.get_feature_names() "
      ],
      "execution_count": 35,
      "outputs": [
        {
          "output_type": "execute_result",
          "data": {
            "text/plain": [
              "['21',\n",
              " '3hz',\n",
              " '80',\n",
              " '8bit',\n",
              " 'academy',\n",
              " 'acc',\n",
              " 'actas',\n",
              " 'aic',\n",
              " 'ajia',\n",
              " 'amber',\n",
              " 'amuse',\n",
              " 'animaruya',\n",
              " 'animation',\n",
              " 'animations',\n",
              " 'annapuru',\n",
              " 'anpro',\n",
              " 'answer',\n",
              " 'appp',\n",
              " 'arcs',\n",
              " 'arms',\n",
              " 'arrow',\n",
              " 'artland',\n",
              " 'artmic',\n",
              " 'arts',\n",
              " 'asahi',\n",
              " 'ascension',\n",
              " 'ashi',\n",
              " 'asread',\n",
              " 'assez',\n",
              " 'asta',\n",
              " 'aubec',\n",
              " 'azeta',\n",
              " 'bandai',\n",
              " 'barnum',\n",
              " 'base',\n",
              " 'basic',\n",
              " 'bee',\n",
              " 'beijing',\n",
              " 'bestack',\n",
              " 'blanc',\n",
              " 'bogey',\n",
              " 'bones',\n",
              " 'bouncy',\n",
              " 'brain',\n",
              " 'bridge',\n",
              " 'bu',\n",
              " 'bugyousho',\n",
              " 'build',\n",
              " 'bus',\n",
              " 'c2c',\n",
              " 'cartoon',\n",
              " 'chaos',\n",
              " 'charaction',\n",
              " 'citrus',\n",
              " 'classic',\n",
              " 'code',\n",
              " 'com',\n",
              " 'comet',\n",
              " 'communications',\n",
              " 'company',\n",
              " 'connect',\n",
              " 'cookie',\n",
              " 'corporation',\n",
              " 'creators',\n",
              " 'crocodile',\n",
              " 'cucuri',\n",
              " 'cyclone',\n",
              " 'daewon',\n",
              " 'dai',\n",
              " 'daume',\n",
              " 'david',\n",
              " 'dax',\n",
              " 'deen',\n",
              " 'digital',\n",
              " 'diomedéa',\n",
              " 'dle',\n",
              " 'do',\n",
              " 'doga',\n",
              " 'dongwoo',\n",
              " 'dongyang',\n",
              " 'dot',\n",
              " 'douga',\n",
              " 'duce',\n",
              " 'dwarf',\n",
              " 'echo',\n",
              " 'echoes',\n",
              " 'egg',\n",
              " 'ei',\n",
              " 'eigasha',\n",
              " 'eiken',\n",
              " 'emt',\n",
              " 'encourage',\n",
              " 'enoki',\n",
              " 'enterprises',\n",
              " 'entertainment',\n",
              " 'fabric',\n",
              " 'fantasia',\n",
              " 'fanworks',\n",
              " 'feel',\n",
              " 'felix',\n",
              " 'film',\n",
              " 'films',\n",
              " 'finaud',\n",
              " 'flag',\n",
              " 'fox',\n",
              " 'front',\n",
              " 'frontier',\n",
              " 'fuji',\n",
              " 'future',\n",
              " 'gainax',\n",
              " 'gakuen',\n",
              " 'gallop',\n",
              " 'gansis',\n",
              " 'gathering',\n",
              " 'genco',\n",
              " 'ghibli',\n",
              " 'ginga',\n",
              " 'gohands',\n",
              " 'gokumi',\n",
              " 'gonzo',\n",
              " 'graphics',\n",
              " 'graphinica',\n",
              " 'group',\n",
              " 'gzwei',\n",
              " 'hal',\n",
              " 'heads',\n",
              " 'heewon',\n",
              " 'hibari',\n",
              " 'hoods',\n",
              " 'hotline',\n",
              " 'house',\n",
              " 'huihuang',\n",
              " 'ichi',\n",
              " 'ilca',\n",
              " 'imagin',\n",
              " 'ims',\n",
              " 'in',\n",
              " 'ishimori',\n",
              " 'ixtl',\n",
              " 'jack',\n",
              " 'japan',\n",
              " 'jar',\n",
              " 'jcf',\n",
              " 'jinnis',\n",
              " 'junio',\n",
              " 'kachidoki',\n",
              " 'kanaban',\n",
              " 'kaname',\n",
              " 'karaku',\n",
              " 'kate',\n",
              " 'kazami',\n",
              " 'kelmadick',\n",
              " 'key',\n",
              " 'keyeast',\n",
              " 'kids',\n",
              " 'kikan',\n",
              " 'kinema',\n",
              " 'knack',\n",
              " 'kobo',\n",
              " 'kokusai',\n",
              " 'koushiki',\n",
              " 'kss',\n",
              " 'kyoto',\n",
              " 'kyuuma',\n",
              " 'lab',\n",
              " 'landq',\n",
              " 'larx',\n",
              " 'lay',\n",
              " 'lerche',\n",
              " 'lidenfilms',\n",
              " 'life',\n",
              " 'line',\n",
              " 'link',\n",
              " 'live',\n",
              " 'lmd',\n",
              " 'machi',\n",
              " 'madhouse',\n",
              " 'magic',\n",
              " 'maker',\n",
              " 'manglobe',\n",
              " 'mappa',\n",
              " 'marine',\n",
              " 'marvy',\n",
              " 'matrix',\n",
              " 'media',\n",
              " 'meruhensha',\n",
              " 'milky',\n",
              " 'millepensee',\n",
              " 'minami',\n",
              " 'mmdgp',\n",
              " 'mook',\n",
              " 'movie',\n",
              " 'mushi',\n",
              " 'music',\n",
              " 'nakamura',\n",
              " 'namco',\n",
              " 'naz',\n",
              " 'nhk',\n",
              " 'nippon',\n",
              " 'no',\n",
              " 'nomad',\n",
              " 'nue',\n",
              " 'olm',\n",
              " 'opera',\n",
              " 'orange',\n",
              " 'ordet',\n",
              " 'pack',\n",
              " 'palm',\n",
              " 'panmedia',\n",
              " 'passione',\n",
              " 'pastel',\n",
              " 'phoenix',\n",
              " 'picture',\n",
              " 'pictures',\n",
              " 'pie',\n",
              " 'pierrot',\n",
              " 'planet',\n",
              " 'plum',\n",
              " 'plus',\n",
              " 'pollyanna',\n",
              " 'polygon',\n",
              " 'printing',\n",
              " 'production',\n",
              " 'productions',\n",
              " 'project',\n",
              " 'public',\n",
              " 'radix',\n",
              " 'rams',\n",
              " 'real',\n",
              " 'realthing',\n",
              " 'reed',\n",
              " 'remic',\n",
              " 'robot',\n",
              " 'room',\n",
              " 'sanrio',\n",
              " 'sanzigen',\n",
              " 'satelight',\n",
              " 'sbs',\n",
              " 'seven',\n",
              " 'shaft',\n",
              " 'shin',\n",
              " 'shinsha',\n",
              " 'shirogumi',\n",
              " 'shogakukan',\n",
              " 'shuka',\n",
              " 'sign',\n",
              " 'silver',\n",
              " 'sky',\n",
              " 'slash',\n",
              " 'sparkly',\n",
              " 'sparky',\n",
              " 'spirits',\n",
              " 'squared',\n",
              " 'staff',\n",
              " 'station',\n",
              " 'steve',\n",
              " 'steven',\n",
              " 'stingray',\n",
              " 'studio',\n",
              " 'studios',\n",
              " 'sunrise',\n",
              " 'synergysp',\n",
              " 'tac',\n",
              " 'tama',\n",
              " 'taps',\n",
              " 'tatsunoko',\n",
              " 'teamkg',\n",
              " 'tele',\n",
              " 'telecom',\n",
              " 'telescreen',\n",
              " 'tezuka',\n",
              " 'the',\n",
              " 'three',\n",
              " 'tms',\n",
              " 'tnk',\n",
              " 'toei',\n",
              " 'tohokushinsha',\n",
              " 'tokyo',\n",
              " 'tomason',\n",
              " 'topcraft',\n",
              " 'train',\n",
              " 'trans',\n",
              " 'tri',\n",
              " 'triangle',\n",
              " 'trigger',\n",
              " 'trinet',\n",
              " 'troyca',\n",
              " 'tsuchida',\n",
              " 'tv',\n",
              " 'tyo',\n",
              " 'ufotable',\n",
              " 'vega',\n",
              " 'view',\n",
              " 'vistec',\n",
              " 'visual',\n",
              " 'wao',\n",
              " 'white',\n",
              " 'wit',\n",
              " 'wombat',\n",
              " 'work',\n",
              " 'works',\n",
              " 'world',\n",
              " 'xebec',\n",
              " 'ya',\n",
              " 'yaoyorozu',\n",
              " 'yumeta',\n",
              " 'zero',\n",
              " 'zexcs']"
            ]
          },
          "metadata": {},
          "execution_count": 35
        }
      ]
    },
    {
      "cell_type": "markdown",
      "metadata": {
        "id": "L3MlACNnhDva"
      },
      "source": [
        "Kode berikut digunakan untuk melakukan transformasi dan fit ke dalam metriks dan menampilkan bentuk dari metriks tersebut."
      ]
    },
    {
      "cell_type": "code",
      "metadata": {
        "colab": {
          "base_uri": "https://localhost:8080/"
        },
        "id": "hEj7AAClhoDg",
        "outputId": "f692ef1e-4e36-47bf-dad6-b39e0f4fc543"
      },
      "source": [
        "tfidf_matrix = tf.fit_transform(anime['studio']) \n",
        " \n",
        "tfidf_matrix.shape "
      ],
      "execution_count": 36,
      "outputs": [
        {
          "output_type": "execute_result",
          "data": {
            "text/plain": [
              "(2764, 308)"
            ]
          },
          "metadata": {},
          "execution_count": 36
        }
      ]
    },
    {
      "cell_type": "markdown",
      "metadata": {
        "id": "iGAONifkhQVD"
      },
      "source": [
        "Kode berikut digunakan untuk mengubah variable tfidf_matrix yang semula vektor menjadi metriks."
      ]
    },
    {
      "cell_type": "code",
      "metadata": {
        "colab": {
          "base_uri": "https://localhost:8080/"
        },
        "id": "e5fUblk-h6IH",
        "outputId": "ab994980-962d-488b-ff8c-9253d8c760da"
      },
      "source": [
        "tfidf_matrix.todense()"
      ],
      "execution_count": 37,
      "outputs": [
        {
          "output_type": "execute_result",
          "data": {
            "text/plain": [
              "matrix([[0., 0., 0., ..., 0., 0., 0.],\n",
              "        [0., 0., 0., ..., 0., 0., 0.],\n",
              "        [0., 0., 0., ..., 0., 0., 0.],\n",
              "        ...,\n",
              "        [0., 0., 0., ..., 0., 0., 0.],\n",
              "        [0., 0., 0., ..., 0., 0., 0.],\n",
              "        [0., 0., 0., ..., 0., 0., 0.]])"
            ]
          },
          "metadata": {},
          "execution_count": 37
        }
      ]
    },
    {
      "cell_type": "markdown",
      "metadata": {
        "id": "7PiUrE8jhksb"
      },
      "source": [
        "Kode berikut digunakan untuk melihat matriks dari judul anime dengan studionya."
      ]
    },
    {
      "cell_type": "code",
      "metadata": {
        "colab": {
          "base_uri": "https://localhost:8080/",
          "height": 388
        },
        "id": "Ue8aVXwMiAoH",
        "outputId": "734c000d-277f-42b4-ea7d-cc57e757eb8b"
      },
      "source": [
        "pd.DataFrame(\n",
        "    tfidf_matrix.todense(), \n",
        "    columns=tf.get_feature_names(),\n",
        "    index=anime.anime_name\n",
        ").sample(10, axis=1,replace=True).sample(10, axis=0)"
      ],
      "execution_count": 38,
      "outputs": [
        {
          "output_type": "execute_result",
          "data": {
            "text/html": [
              "<div>\n",
              "<style scoped>\n",
              "    .dataframe tbody tr th:only-of-type {\n",
              "        vertical-align: middle;\n",
              "    }\n",
              "\n",
              "    .dataframe tbody tr th {\n",
              "        vertical-align: top;\n",
              "    }\n",
              "\n",
              "    .dataframe thead th {\n",
              "        text-align: right;\n",
              "    }\n",
              "</style>\n",
              "<table border=\"1\" class=\"dataframe\">\n",
              "  <thead>\n",
              "    <tr style=\"text-align: right;\">\n",
              "      <th></th>\n",
              "      <th>nomad</th>\n",
              "      <th>in</th>\n",
              "      <th>wit</th>\n",
              "      <th>sanzigen</th>\n",
              "      <th>white</th>\n",
              "      <th>ichi</th>\n",
              "      <th>three</th>\n",
              "      <th>do</th>\n",
              "      <th>real</th>\n",
              "      <th>gainax</th>\n",
              "    </tr>\n",
              "    <tr>\n",
              "      <th>anime_name</th>\n",
              "      <th></th>\n",
              "      <th></th>\n",
              "      <th></th>\n",
              "      <th></th>\n",
              "      <th></th>\n",
              "      <th></th>\n",
              "      <th></th>\n",
              "      <th></th>\n",
              "      <th></th>\n",
              "      <th></th>\n",
              "    </tr>\n",
              "  </thead>\n",
              "  <tbody>\n",
              "    <tr>\n",
              "      <th>Majokko Tickle</th>\n",
              "      <td>0.0</td>\n",
              "      <td>0.0</td>\n",
              "      <td>0.0</td>\n",
              "      <td>0.0</td>\n",
              "      <td>0.0</td>\n",
              "      <td>0.0</td>\n",
              "      <td>0.0</td>\n",
              "      <td>0.0</td>\n",
              "      <td>0.0</td>\n",
              "      <td>0.0</td>\n",
              "    </tr>\n",
              "    <tr>\n",
              "      <th>Touka Gettan</th>\n",
              "      <td>0.0</td>\n",
              "      <td>0.0</td>\n",
              "      <td>0.0</td>\n",
              "      <td>0.0</td>\n",
              "      <td>0.0</td>\n",
              "      <td>0.0</td>\n",
              "      <td>0.0</td>\n",
              "      <td>0.0</td>\n",
              "      <td>0.0</td>\n",
              "      <td>0.0</td>\n",
              "    </tr>\n",
              "    <tr>\n",
              "      <th>Kami nomi zo Shiru Sekai</th>\n",
              "      <td>0.0</td>\n",
              "      <td>0.0</td>\n",
              "      <td>0.0</td>\n",
              "      <td>0.0</td>\n",
              "      <td>0.0</td>\n",
              "      <td>0.0</td>\n",
              "      <td>0.0</td>\n",
              "      <td>0.0</td>\n",
              "      <td>0.0</td>\n",
              "      <td>0.0</td>\n",
              "    </tr>\n",
              "    <tr>\n",
              "      <th>Maria†Holic</th>\n",
              "      <td>0.0</td>\n",
              "      <td>0.0</td>\n",
              "      <td>0.0</td>\n",
              "      <td>0.0</td>\n",
              "      <td>0.0</td>\n",
              "      <td>0.0</td>\n",
              "      <td>0.0</td>\n",
              "      <td>0.0</td>\n",
              "      <td>0.0</td>\n",
              "      <td>0.0</td>\n",
              "    </tr>\n",
              "    <tr>\n",
              "      <th>Akai Koudan Zillion</th>\n",
              "      <td>0.0</td>\n",
              "      <td>0.0</td>\n",
              "      <td>0.0</td>\n",
              "      <td>0.0</td>\n",
              "      <td>0.0</td>\n",
              "      <td>0.0</td>\n",
              "      <td>0.0</td>\n",
              "      <td>0.0</td>\n",
              "      <td>0.0</td>\n",
              "      <td>0.0</td>\n",
              "    </tr>\n",
              "    <tr>\n",
              "      <th>Ikinari Dagon</th>\n",
              "      <td>0.0</td>\n",
              "      <td>0.0</td>\n",
              "      <td>0.0</td>\n",
              "      <td>0.0</td>\n",
              "      <td>0.0</td>\n",
              "      <td>0.0</td>\n",
              "      <td>0.0</td>\n",
              "      <td>0.0</td>\n",
              "      <td>0.0</td>\n",
              "      <td>0.0</td>\n",
              "    </tr>\n",
              "    <tr>\n",
              "      <th>Mugen no Ryvius</th>\n",
              "      <td>0.0</td>\n",
              "      <td>0.0</td>\n",
              "      <td>0.0</td>\n",
              "      <td>0.0</td>\n",
              "      <td>0.0</td>\n",
              "      <td>0.0</td>\n",
              "      <td>0.0</td>\n",
              "      <td>0.0</td>\n",
              "      <td>0.0</td>\n",
              "      <td>0.0</td>\n",
              "    </tr>\n",
              "    <tr>\n",
              "      <th>Youyou no Neko Tsumami</th>\n",
              "      <td>0.0</td>\n",
              "      <td>0.0</td>\n",
              "      <td>0.0</td>\n",
              "      <td>0.0</td>\n",
              "      <td>0.0</td>\n",
              "      <td>0.0</td>\n",
              "      <td>0.0</td>\n",
              "      <td>0.0</td>\n",
              "      <td>0.0</td>\n",
              "      <td>0.0</td>\n",
              "    </tr>\n",
              "    <tr>\n",
              "      <th>Hello Kitty: Ringo no Mori to Parallel Town</th>\n",
              "      <td>0.0</td>\n",
              "      <td>0.0</td>\n",
              "      <td>0.0</td>\n",
              "      <td>0.0</td>\n",
              "      <td>0.0</td>\n",
              "      <td>0.0</td>\n",
              "      <td>0.0</td>\n",
              "      <td>0.0</td>\n",
              "      <td>0.0</td>\n",
              "      <td>0.0</td>\n",
              "    </tr>\n",
              "    <tr>\n",
              "      <th>Biriken Nandemo Shoukai</th>\n",
              "      <td>0.0</td>\n",
              "      <td>0.0</td>\n",
              "      <td>0.0</td>\n",
              "      <td>0.0</td>\n",
              "      <td>0.0</td>\n",
              "      <td>0.0</td>\n",
              "      <td>0.0</td>\n",
              "      <td>0.0</td>\n",
              "      <td>0.0</td>\n",
              "      <td>0.0</td>\n",
              "    </tr>\n",
              "  </tbody>\n",
              "</table>\n",
              "</div>"
            ],
            "text/plain": [
              "                                             nomad   in  wit  ...   do  real  gainax\n",
              "anime_name                                                    ...                   \n",
              "Majokko Tickle                                 0.0  0.0  0.0  ...  0.0   0.0     0.0\n",
              "Touka Gettan                                   0.0  0.0  0.0  ...  0.0   0.0     0.0\n",
              "Kami nomi zo Shiru Sekai                       0.0  0.0  0.0  ...  0.0   0.0     0.0\n",
              "Maria†Holic                                    0.0  0.0  0.0  ...  0.0   0.0     0.0\n",
              "Akai Koudan Zillion                            0.0  0.0  0.0  ...  0.0   0.0     0.0\n",
              "Ikinari Dagon                                  0.0  0.0  0.0  ...  0.0   0.0     0.0\n",
              "Mugen no Ryvius                                0.0  0.0  0.0  ...  0.0   0.0     0.0\n",
              "Youyou no Neko Tsumami                         0.0  0.0  0.0  ...  0.0   0.0     0.0\n",
              "Hello Kitty: Ringo no Mori to Parallel Town    0.0  0.0  0.0  ...  0.0   0.0     0.0\n",
              "Biriken Nandemo Shoukai                        0.0  0.0  0.0  ...  0.0   0.0     0.0\n",
              "\n",
              "[10 rows x 10 columns]"
            ]
          },
          "metadata": {},
          "execution_count": 38
        }
      ]
    },
    {
      "cell_type": "markdown",
      "metadata": {
        "id": "2K_RH6wsiV3q"
      },
      "source": [
        "Kode berikut digunakan untuk mengidentifikasi derajat kesamaan dengan menggunakan cosine similarity."
      ]
    },
    {
      "cell_type": "code",
      "metadata": {
        "colab": {
          "base_uri": "https://localhost:8080/"
        },
        "id": "gmpR4EVgiD8o",
        "outputId": "d44de488-adc1-4d05-8ab2-9677e94b87c4"
      },
      "source": [
        "from sklearn.metrics.pairwise import cosine_similarity\n",
        " \n",
        "cosine_sim = cosine_similarity(tfidf_matrix) \n",
        "cosine_sim"
      ],
      "execution_count": 39,
      "outputs": [
        {
          "output_type": "execute_result",
          "data": {
            "text/plain": [
              "array([[1., 0., 1., ..., 0., 0., 0.],\n",
              "       [0., 1., 0., ..., 0., 0., 0.],\n",
              "       [1., 0., 1., ..., 0., 0., 0.],\n",
              "       ...,\n",
              "       [0., 0., 0., ..., 1., 0., 0.],\n",
              "       [0., 0., 0., ..., 0., 1., 0.],\n",
              "       [0., 0., 0., ..., 0., 0., 1.]])"
            ]
          },
          "metadata": {},
          "execution_count": 39
        }
      ]
    },
    {
      "cell_type": "markdown",
      "metadata": {
        "id": "HT9fPvcein_2"
      },
      "source": [
        "Kode berikut digunakan untuk membuat dataframe cosine_sim_df dengan baris dan kolomnya adalah judul anime."
      ]
    },
    {
      "cell_type": "code",
      "metadata": {
        "id": "ThioKA8uiGy_"
      },
      "source": [
        "cosine_sim_df = pd.DataFrame(cosine_sim, index=anime['anime_name'], columns=anime['anime_name'])"
      ],
      "execution_count": 40,
      "outputs": []
    },
    {
      "cell_type": "markdown",
      "metadata": {
        "id": "LBoC-7a2i4QT"
      },
      "source": [
        "Kode berikut digunakan untuk membuat rekomendasi anime sebanyak k buah, dalam kasus ini adalah 5, berdasarkan nilai cosine similarity dengan tingkat kesamaan dari yang paling tinggi."
      ]
    },
    {
      "cell_type": "code",
      "metadata": {
        "id": "ARpNYXr2iIHA"
      },
      "source": [
        "def studio_recommendations(i, M, items, k=5):\n",
        "    ix = M.loc[:,i].to_numpy().argpartition(range(-1,-k,-1))\n",
        "    closest = M.columns[ix[-1:-(k+2):-1]]\n",
        "    closest = closest.drop(i, errors='ignore')\n",
        "    return pd.DataFrame(closest).merge(items).head(k)"
      ],
      "execution_count": 41,
      "outputs": []
    },
    {
      "cell_type": "markdown",
      "metadata": {
        "id": "SPxXSp0Wkpl6"
      },
      "source": [
        "Kode berikut digunakan untuk menampung contoh judul anime yang telah ditonton dan menampilkannya\"."
      ]
    },
    {
      "cell_type": "code",
      "metadata": {
        "colab": {
          "base_uri": "https://localhost:8080/",
          "height": 80
        },
        "id": "-IDiiU6tiPLw",
        "outputId": "ab0b85b5-0f3a-4259-9aaf-7cf245a62690"
      },
      "source": [
        "anime_that_have_been_watched = \"Naruto: Shippuuden\"\n",
        "anime[anime.anime_name.eq(anime_that_have_been_watched)]"
      ],
      "execution_count": 42,
      "outputs": [
        {
          "output_type": "execute_result",
          "data": {
            "text/html": [
              "<div>\n",
              "<style scoped>\n",
              "    .dataframe tbody tr th:only-of-type {\n",
              "        vertical-align: middle;\n",
              "    }\n",
              "\n",
              "    .dataframe tbody tr th {\n",
              "        vertical-align: top;\n",
              "    }\n",
              "\n",
              "    .dataframe thead th {\n",
              "        text-align: right;\n",
              "    }\n",
              "</style>\n",
              "<table border=\"1\" class=\"dataframe\">\n",
              "  <thead>\n",
              "    <tr style=\"text-align: right;\">\n",
              "      <th></th>\n",
              "      <th>anime_id</th>\n",
              "      <th>anime_name</th>\n",
              "      <th>studio</th>\n",
              "      <th>premiered</th>\n",
              "    </tr>\n",
              "  </thead>\n",
              "  <tbody>\n",
              "    <tr>\n",
              "      <th>781</th>\n",
              "      <td>1735</td>\n",
              "      <td>Naruto: Shippuuden</td>\n",
              "      <td>Studio Pierrot</td>\n",
              "      <td>Winter 2007</td>\n",
              "    </tr>\n",
              "  </tbody>\n",
              "</table>\n",
              "</div>"
            ],
            "text/plain": [
              "     anime_id          anime_name          studio    premiered\n",
              "781      1735  Naruto: Shippuuden  Studio Pierrot  Winter 2007"
            ]
          },
          "metadata": {},
          "execution_count": 42
        }
      ]
    },
    {
      "cell_type": "markdown",
      "metadata": {
        "id": "d-xew_D-k8Ku"
      },
      "source": [
        "Kode berikut digunakan untuk mendapatkan rekomendasi dari anime \"Naruto: Shippuuden\"."
      ]
    },
    {
      "cell_type": "code",
      "metadata": {
        "id": "VjMHoH_wianf"
      },
      "source": [
        "recommendations = studio_recommendations(anime_that_have_been_watched, cosine_sim_df, anime[['anime_name', 'studio']])"
      ],
      "execution_count": 43,
      "outputs": []
    },
    {
      "cell_type": "markdown",
      "metadata": {
        "id": "ptKX_anwlPRi"
      },
      "source": [
        "Kode berikut digunakan untuk melakukan drop kolom duplikat."
      ]
    },
    {
      "cell_type": "code",
      "metadata": {
        "id": "GbD9NhJBir6Z"
      },
      "source": [
        "recommendations = recommendations.drop_duplicates()"
      ],
      "execution_count": 44,
      "outputs": []
    },
    {
      "cell_type": "markdown",
      "metadata": {
        "id": "HyS3SSTdlSLR"
      },
      "source": [
        "Kode berikut digunakan untuk menampilkan anime rekomendasi."
      ]
    },
    {
      "cell_type": "code",
      "metadata": {
        "colab": {
          "base_uri": "https://localhost:8080/",
          "height": 203
        },
        "id": "udMBQiYaixU_",
        "outputId": "f266181b-1f00-4583-8a22-1f4e99440331"
      },
      "source": [
        "recommendations"
      ],
      "execution_count": 45,
      "outputs": [
        {
          "output_type": "execute_result",
          "data": {
            "text/html": [
              "<div>\n",
              "<style scoped>\n",
              "    .dataframe tbody tr th:only-of-type {\n",
              "        vertical-align: middle;\n",
              "    }\n",
              "\n",
              "    .dataframe tbody tr th {\n",
              "        vertical-align: top;\n",
              "    }\n",
              "\n",
              "    .dataframe thead th {\n",
              "        text-align: right;\n",
              "    }\n",
              "</style>\n",
              "<table border=\"1\" class=\"dataframe\">\n",
              "  <thead>\n",
              "    <tr style=\"text-align: right;\">\n",
              "      <th></th>\n",
              "      <th>anime_name</th>\n",
              "      <th>studio</th>\n",
              "    </tr>\n",
              "  </thead>\n",
              "  <tbody>\n",
              "    <tr>\n",
              "      <th>0</th>\n",
              "      <td>Blue Dragon: Tenkai no Shichi Ryuu</td>\n",
              "      <td>Studio Pierrot</td>\n",
              "    </tr>\n",
              "    <tr>\n",
              "      <th>1</th>\n",
              "      <td>Mahou no Star Magical Emi</td>\n",
              "      <td>Studio Pierrot</td>\n",
              "    </tr>\n",
              "    <tr>\n",
              "      <th>2</th>\n",
              "      <td>Neo Ranga</td>\n",
              "      <td>Studio Pierrot</td>\n",
              "    </tr>\n",
              "    <tr>\n",
              "      <th>3</th>\n",
              "      <td>Shirokuma Cafe</td>\n",
              "      <td>Studio Pierrot</td>\n",
              "    </tr>\n",
              "    <tr>\n",
              "      <th>4</th>\n",
              "      <td>Mahou no Yousei Persia</td>\n",
              "      <td>Studio Pierrot</td>\n",
              "    </tr>\n",
              "  </tbody>\n",
              "</table>\n",
              "</div>"
            ],
            "text/plain": [
              "                           anime_name          studio\n",
              "0  Blue Dragon: Tenkai no Shichi Ryuu  Studio Pierrot\n",
              "1           Mahou no Star Magical Emi  Studio Pierrot\n",
              "2                           Neo Ranga  Studio Pierrot\n",
              "3                      Shirokuma Cafe  Studio Pierrot\n",
              "4              Mahou no Yousei Persia  Studio Pierrot"
            ]
          },
          "metadata": {},
          "execution_count": 45
        }
      ]
    },
    {
      "cell_type": "markdown",
      "metadata": {
        "id": "gcVp5Py0lVz3"
      },
      "source": [
        "## Evaluasi"
      ]
    },
    {
      "cell_type": "markdown",
      "metadata": {
        "id": "wTo8Ff5JCVqH"
      },
      "source": [
        "Kode berikut digunakan untuk mengidentifikasi baris anime yang telah ditonton dan studio dari anime tersebut."
      ]
    },
    {
      "cell_type": "code",
      "metadata": {
        "id": "ttYr-hvjiyif"
      },
      "source": [
        "anime_that_have_been_watched_row = anime_dataset[anime_dataset.Name == anime_that_have_been_watched]\n",
        "anime_that_have_been_watched_studio = anime_that_have_been_watched_row.iloc[0][\"Studios\"]"
      ],
      "execution_count": 46,
      "outputs": []
    },
    {
      "cell_type": "markdown",
      "metadata": {
        "id": "A7_NXGJdCtWO"
      },
      "source": [
        "Kode berikut digunakan untuk menampung list studio dari varaibel recommendations."
      ]
    },
    {
      "cell_type": "code",
      "metadata": {
        "id": "rhzqJds4jDOi"
      },
      "source": [
        "anime_recommendation_studio = recommendations.studio"
      ],
      "execution_count": 47,
      "outputs": []
    },
    {
      "cell_type": "markdown",
      "metadata": {
        "id": "c9lML7SlDtGw"
      },
      "source": [
        "Kode berikut digunakan untuk mengecek jumlah studio yang ada pada list tersebut. Jika sama maka nilai real_studio akan bertambah 1. "
      ]
    },
    {
      "cell_type": "code",
      "metadata": {
        "id": "98e-7CHhk2DI"
      },
      "source": [
        "real_studio = 0\n",
        "for i in range(5):\n",
        "    if anime_recommendation_studio[i] == anime_that_have_been_watched_studio:\n",
        "        real_studio+=1"
      ],
      "execution_count": 48,
      "outputs": []
    },
    {
      "cell_type": "markdown",
      "metadata": {
        "id": "UfY-NDx8D_P1"
      },
      "source": [
        "Kode berikut digunakan untuk mengukur akurasi dari model. Dikarenakan sebelumnya jumlah rekomendasi saya tetapkan 5 buah, maka akurasi dihitung dengan cara membaginya dengan 5 dan kali dengan 100."
      ]
    },
    {
      "cell_type": "code",
      "metadata": {
        "colab": {
          "base_uri": "https://localhost:8080/"
        },
        "id": "wSgMVhPBletY",
        "outputId": "e77006a6-07dc-4308-9a1a-9b2dfb846016"
      },
      "source": [
        "Precision = real_studio/5*100\n",
        "print(\"Precision of the model is {}%\".format(Precision))"
      ],
      "execution_count": 49,
      "outputs": [
        {
          "output_type": "stream",
          "name": "stdout",
          "text": [
            "Precision of the model is 100.0%\n"
          ]
        }
      ]
    },
    {
      "cell_type": "markdown",
      "metadata": {
        "id": "oUhhe0bALELc"
      },
      "source": [
        "Akurasi 100% menunjukkan bahwa studio yang terdapat pada rekomendasi semuanya sama."
      ]
    },
    {
      "cell_type": "markdown",
      "metadata": {
        "id": "puxGZPXarvqo"
      },
      "source": [
        "# Collaborative Filtering Recommendation"
      ]
    },
    {
      "cell_type": "markdown",
      "metadata": {
        "id": "I360eetNMm0U"
      },
      "source": [
        "Collaborative filtering adalah sistem rekomendasi yang membuat prediksi berdasarkan riwayat aktivitas-aktivitas dari pengguna.\n",
        "Collaborative filtering cenderung mencari apa yang diinginkan pengguna untuk mengklasifikasikan pengguna-pengguna dalam cluster dengan tipe yang sama dan merekomendasikan setiap pengguna sesuai dengan preferensi clusternya."
      ]
    },
    {
      "cell_type": "markdown",
      "metadata": {
        "id": "ethIl1MRrzgi"
      },
      "source": [
        "\n",
        "## Data Preparation"
      ]
    },
    {
      "cell_type": "markdown",
      "metadata": {
        "id": "gjXmK-CcNmmC"
      },
      "source": [
        "Kode berikut digunakan untuk membuat list dari user_id dan mengubah user_id menjadi integer."
      ]
    },
    {
      "cell_type": "code",
      "metadata": {
        "id": "2dtZgwLRnnFg"
      },
      "source": [
        "user_id = rating_dataset['user_id'].unique().tolist()\n",
        "user_to_user_encoded = {x: i for i, x in enumerate(user_id)}\n",
        "user_encoded_to_user = {i: x for i, x in enumerate(user_id)}"
      ],
      "execution_count": 50,
      "outputs": []
    },
    {
      "cell_type": "markdown",
      "metadata": {
        "id": "eJoeR85VNzqw"
      },
      "source": [
        "Kode berikut digunakan untuk membuat list dari anime_id dan mengubah anime_id menjadi integer."
      ]
    },
    {
      "cell_type": "code",
      "metadata": {
        "id": "0dIieksouIlD"
      },
      "source": [
        "anime_id = rating_dataset['anime_id'].unique().tolist()\n",
        "anime_to_anime_encoded = {x: i for i, x in enumerate(anime_id)}\n",
        "anime_encoded_to_anime = {i: x for i, x in enumerate(anime_id)}\n",
        "\n",
        "rating_dataset['user'] = rating_dataset['user_id'].map(user_to_user_encoded)\n",
        "rating_dataset['anime'] = rating_dataset['anime_id'].map(anime_to_anime_encoded)"
      ],
      "execution_count": 51,
      "outputs": []
    },
    {
      "cell_type": "markdown",
      "metadata": {
        "id": "5FuDN3M-OBKP"
      },
      "source": [
        "Kode berikut digunakan untuk mengecek jumlah user dan anime"
      ]
    },
    {
      "cell_type": "code",
      "metadata": {
        "colab": {
          "base_uri": "https://localhost:8080/"
        },
        "id": "GXQvf3l0uhEh",
        "outputId": "657bd62c-f68f-407d-8c9b-80ba91a1f998"
      },
      "source": [
        "num_users = len(user_encoded_to_user)\n",
        "print(num_users)\n",
        "num_anime = len(anime_encoded_to_anime)\n",
        "print(num_anime)\n",
        "rating_dataset['rating'] = rating_dataset['rating'].values.astype(np.float32)\n",
        "\n",
        "min_rating = min(rating_dataset['rating'])\n",
        "max_rating = max(rating_dataset['rating'])\n",
        " \n",
        "print('Number of User: {} \\nNumber of Anime: {} \\nMin Rating: {} \\nMax Rating: {}'.format(\n",
        "    num_users, num_anime, min_rating, max_rating\n",
        "))"
      ],
      "execution_count": 52,
      "outputs": [
        {
          "output_type": "stream",
          "name": "stdout",
          "text": [
            "195\n",
            "4758\n",
            "Number of User: 195 \n",
            "Number of Anime: 4758 \n",
            "Min Rating: 1.0 \n",
            "Max Rating: 10.0\n"
          ]
        }
      ]
    },
    {
      "cell_type": "markdown",
      "metadata": {
        "id": "O_8wFSzsr5yo"
      },
      "source": [
        "## Dataset Splitting"
      ]
    },
    {
      "cell_type": "markdown",
      "metadata": {
        "id": "bUyjvrBQeOO4"
      },
      "source": [
        "Kode berikut digunakan untuk memberi index random pada dataset."
      ]
    },
    {
      "cell_type": "code",
      "metadata": {
        "colab": {
          "base_uri": "https://localhost:8080/",
          "height": 0
        },
        "id": "Qa2bmlHDvAOF",
        "outputId": "a8f99b31-5851-468f-b678-b2d88ed9a110"
      },
      "source": [
        "rating_dataset = rating_dataset.sample(frac=1, random_state=42)\n",
        "rating_dataset"
      ],
      "execution_count": 53,
      "outputs": [
        {
          "output_type": "execute_result",
          "data": {
            "text/html": [
              "<div>\n",
              "<style scoped>\n",
              "    .dataframe tbody tr th:only-of-type {\n",
              "        vertical-align: middle;\n",
              "    }\n",
              "\n",
              "    .dataframe tbody tr th {\n",
              "        vertical-align: top;\n",
              "    }\n",
              "\n",
              "    .dataframe thead th {\n",
              "        text-align: right;\n",
              "    }\n",
              "</style>\n",
              "<table border=\"1\" class=\"dataframe\">\n",
              "  <thead>\n",
              "    <tr style=\"text-align: right;\">\n",
              "      <th></th>\n",
              "      <th>user_id</th>\n",
              "      <th>anime_id</th>\n",
              "      <th>rating</th>\n",
              "      <th>user</th>\n",
              "      <th>anime</th>\n",
              "    </tr>\n",
              "  </thead>\n",
              "  <tbody>\n",
              "    <tr>\n",
              "      <th>2308</th>\n",
              "      <td>17</td>\n",
              "      <td>23311</td>\n",
              "      <td>7.0</td>\n",
              "      <td>16</td>\n",
              "      <td>1398</td>\n",
              "    </tr>\n",
              "    <tr>\n",
              "      <th>22404</th>\n",
              "      <td>172</td>\n",
              "      <td>16005</td>\n",
              "      <td>7.0</td>\n",
              "      <td>149</td>\n",
              "      <td>1698</td>\n",
              "    </tr>\n",
              "    <tr>\n",
              "      <th>23397</th>\n",
              "      <td>174</td>\n",
              "      <td>11123</td>\n",
              "      <td>6.0</td>\n",
              "      <td>151</td>\n",
              "      <td>2098</td>\n",
              "    </tr>\n",
              "    <tr>\n",
              "      <th>25058</th>\n",
              "      <td>193</td>\n",
              "      <td>32182</td>\n",
              "      <td>9.0</td>\n",
              "      <td>165</td>\n",
              "      <td>143</td>\n",
              "    </tr>\n",
              "    <tr>\n",
              "      <th>2664</th>\n",
              "      <td>19</td>\n",
              "      <td>23327</td>\n",
              "      <td>7.0</td>\n",
              "      <td>18</td>\n",
              "      <td>1546</td>\n",
              "    </tr>\n",
              "    <tr>\n",
              "      <th>...</th>\n",
              "      <td>...</td>\n",
              "      <td>...</td>\n",
              "      <td>...</td>\n",
              "      <td>...</td>\n",
              "      <td>...</td>\n",
              "    </tr>\n",
              "    <tr>\n",
              "      <th>29802</th>\n",
              "      <td>226</td>\n",
              "      <td>11111</td>\n",
              "      <td>8.0</td>\n",
              "      <td>193</td>\n",
              "      <td>324</td>\n",
              "    </tr>\n",
              "    <tr>\n",
              "      <th>5390</th>\n",
              "      <td>42</td>\n",
              "      <td>30042</td>\n",
              "      <td>2.0</td>\n",
              "      <td>39</td>\n",
              "      <td>2385</td>\n",
              "    </tr>\n",
              "    <tr>\n",
              "      <th>860</th>\n",
              "      <td>6</td>\n",
              "      <td>143</td>\n",
              "      <td>10.0</td>\n",
              "      <td>6</td>\n",
              "      <td>744</td>\n",
              "    </tr>\n",
              "    <tr>\n",
              "      <th>15795</th>\n",
              "      <td>122</td>\n",
              "      <td>37171</td>\n",
              "      <td>8.0</td>\n",
              "      <td>107</td>\n",
              "      <td>1687</td>\n",
              "    </tr>\n",
              "    <tr>\n",
              "      <th>23654</th>\n",
              "      <td>179</td>\n",
              "      <td>16866</td>\n",
              "      <td>6.0</td>\n",
              "      <td>154</td>\n",
              "      <td>1512</td>\n",
              "    </tr>\n",
              "  </tbody>\n",
              "</table>\n",
              "<p>30000 rows × 5 columns</p>\n",
              "</div>"
            ],
            "text/plain": [
              "       user_id  anime_id  rating  user  anime\n",
              "2308        17     23311     7.0    16   1398\n",
              "22404      172     16005     7.0   149   1698\n",
              "23397      174     11123     6.0   151   2098\n",
              "25058      193     32182     9.0   165    143\n",
              "2664        19     23327     7.0    18   1546\n",
              "...        ...       ...     ...   ...    ...\n",
              "29802      226     11111     8.0   193    324\n",
              "5390        42     30042     2.0    39   2385\n",
              "860          6       143    10.0     6    744\n",
              "15795      122     37171     8.0   107   1687\n",
              "23654      179     16866     6.0   154   1512\n",
              "\n",
              "[30000 rows x 5 columns]"
            ]
          },
          "metadata": {},
          "execution_count": 53
        }
      ]
    },
    {
      "cell_type": "markdown",
      "metadata": {
        "id": "m6f2dtjtffNl"
      },
      "source": [
        "Kode berikut digunakan untuk melakukan pembagian data set. Dengan 0.75 data training dan 0.25 data validasi."
      ]
    },
    {
      "cell_type": "code",
      "metadata": {
        "colab": {
          "base_uri": "https://localhost:8080/"
        },
        "id": "cTLp1LpFvCOx",
        "outputId": "10b93c94-438d-4225-abfd-c4c00cd6c568"
      },
      "source": [
        "x = rating_dataset[['user', 'anime']].values\n",
        " \n",
        "y = rating_dataset['rating'].apply(lambda x: (x - min_rating) / (max_rating - min_rating)).values\n",
        " \n",
        "train_indices = int(0.75 * rating_dataset.shape[0])\n",
        "x_train, x_val, y_train, y_val = (\n",
        "    x[:train_indices],\n",
        "    x[train_indices:],\n",
        "    y[:train_indices],\n",
        "    y[train_indices:]\n",
        ")\n",
        " \n",
        "print(x, y)"
      ],
      "execution_count": 54,
      "outputs": [
        {
          "output_type": "stream",
          "name": "stdout",
          "text": [
            "[[  16 1398]\n",
            " [ 149 1698]\n",
            " [ 151 2098]\n",
            " ...\n",
            " [   6  744]\n",
            " [ 107 1687]\n",
            " [ 154 1512]] [0.66666667 0.66666667 0.55555556 ... 1.         0.77777778 0.55555556]\n"
          ]
        }
      ]
    },
    {
      "cell_type": "markdown",
      "metadata": {
        "id": "EsI0jjAhr_VI"
      },
      "source": [
        "## Modeling"
      ]
    },
    {
      "cell_type": "markdown",
      "metadata": {
        "id": "BpKFfu51ifLl"
      },
      "source": [
        "Kode berikut digunakan untuk mengimpor library yang dibutuhkan untuk melakukan modeling."
      ]
    },
    {
      "cell_type": "code",
      "metadata": {
        "id": "GE8NWV0gvEK4"
      },
      "source": [
        "from tensorflow import keras\n",
        "from tensorflow.keras import layers\n",
        "import tensorflow as tf"
      ],
      "execution_count": 55,
      "outputs": []
    },
    {
      "cell_type": "markdown",
      "metadata": {
        "id": "BrMaqMqVLMYU"
      },
      "source": [
        "Pada kode berikut saya menggunakan RecommenderNet untuk membuat model *collaborative filtering*."
      ]
    },
    {
      "cell_type": "code",
      "metadata": {
        "id": "1tXCENyKvPHU"
      },
      "source": [
        "class RecommenderNet(tf.keras.Model):\n",
        " \n",
        "  def __init__(self, num_users, num_anime, embedding_size, **kwargs):\n",
        "    super(RecommenderNet, self).__init__(**kwargs)\n",
        "    self.num_users = num_users\n",
        "    self.num_anime = num_anime\n",
        "    self.embedding_size = embedding_size\n",
        "    self.user_embedding = layers.Embedding(\n",
        "        num_users,\n",
        "        embedding_size,\n",
        "        embeddings_initializer = 'he_normal',\n",
        "        embeddings_regularizer = keras.regularizers.l2(1e-6)\n",
        "    )\n",
        "    self.user_bias = layers.Embedding(num_users, 1)\n",
        "    self.anime_embedding = layers.Embedding( \n",
        "        num_anime,\n",
        "        embedding_size,\n",
        "        embeddings_initializer = 'he_normal',\n",
        "        embeddings_regularizer = keras.regularizers.l2(1e-6)\n",
        "    )\n",
        "    self.anime_bias = layers.Embedding(num_anime, 1) \n",
        " \n",
        "  def call(self, inputs):\n",
        "    user_vector = self.user_embedding(inputs[:,0])\n",
        "    user_bias = self.user_bias(inputs[:, 0])\n",
        "    anime_vector = self.anime_embedding(inputs[:, 1])\n",
        "    anime_bias = self.anime_bias(inputs[:, 1]) \n",
        " \n",
        "    dot_user_anime = tf.tensordot(user_vector, anime_vector, 2) \n",
        " \n",
        "    x = dot_user_anime + user_bias + anime_bias\n",
        "    \n",
        "    return tf.nn.sigmoid(x) "
      ],
      "execution_count": 56,
      "outputs": []
    },
    {
      "cell_type": "markdown",
      "metadata": {
        "id": "CGoPxi6firhq"
      },
      "source": [
        "Kode berikut digunakan untuk melakukan compile pada model dengan menggunakan metrik RMSE(Root Mean Squared Error)."
      ]
    },
    {
      "cell_type": "code",
      "metadata": {
        "id": "e413Le1uvSZR"
      },
      "source": [
        "model = RecommenderNet(num_users, num_anime, 50)\n",
        "\n",
        "model.compile(\n",
        "    loss = tf.keras.losses.BinaryCrossentropy(),\n",
        "    optimizer = keras.optimizers.Adam(learning_rate=0.001),\n",
        "    metrics=[tf.keras.metrics.RootMeanSquaredError()]\n",
        ")"
      ],
      "execution_count": 57,
      "outputs": []
    },
    {
      "cell_type": "markdown",
      "metadata": {
        "id": "QFXKu8nri6xR"
      },
      "source": [
        "Kode berikut digunakan untuk melakukan fit pada model dan menampungnya riwayatnya."
      ]
    },
    {
      "cell_type": "code",
      "metadata": {
        "colab": {
          "base_uri": "https://localhost:8080/"
        },
        "id": "rycMi9XFvT2h",
        "outputId": "7cc029ed-27ef-44fa-c362-3c87aafd0310"
      },
      "source": [
        "history = model.fit(\n",
        "    x = x_train,\n",
        "    y = y_train,\n",
        "    batch_size = 5,\n",
        "    epochs = 20,\n",
        "    validation_data = (x_val, y_val)\n",
        ")"
      ],
      "execution_count": 58,
      "outputs": [
        {
          "output_type": "stream",
          "name": "stdout",
          "text": [
            "Epoch 1/20\n",
            "4500/4500 [==============================] - 22s 4ms/step - loss: 0.6053 - root_mean_squared_error: 0.2227 - val_loss: 0.5649 - val_root_mean_squared_error: 0.1768\n",
            "Epoch 2/20\n",
            "4500/4500 [==============================] - 19s 4ms/step - loss: 0.5539 - root_mean_squared_error: 0.1645 - val_loss: 0.5557 - val_root_mean_squared_error: 0.1666\n",
            "Epoch 3/20\n",
            "4500/4500 [==============================] - 19s 4ms/step - loss: 0.5447 - root_mean_squared_error: 0.1536 - val_loss: 0.5517 - val_root_mean_squared_error: 0.1624\n",
            "Epoch 4/20\n",
            "4500/4500 [==============================] - 19s 4ms/step - loss: 0.5390 - root_mean_squared_error: 0.1461 - val_loss: 0.5492 - val_root_mean_squared_error: 0.1596\n",
            "Epoch 5/20\n",
            "4500/4500 [==============================] - 18s 4ms/step - loss: 0.5350 - root_mean_squared_error: 0.1408 - val_loss: 0.5475 - val_root_mean_squared_error: 0.1576\n",
            "Epoch 6/20\n",
            "4500/4500 [==============================] - 18s 4ms/step - loss: 0.5330 - root_mean_squared_error: 0.1378 - val_loss: 0.5464 - val_root_mean_squared_error: 0.1563\n",
            "Epoch 7/20\n",
            "4500/4500 [==============================] - 19s 4ms/step - loss: 0.5315 - root_mean_squared_error: 0.1359 - val_loss: 0.5464 - val_root_mean_squared_error: 0.1565\n",
            "Epoch 8/20\n",
            "4500/4500 [==============================] - 19s 4ms/step - loss: 0.5296 - root_mean_squared_error: 0.1333 - val_loss: 0.5460 - val_root_mean_squared_error: 0.1560\n",
            "Epoch 9/20\n",
            "4500/4500 [==============================] - 19s 4ms/step - loss: 0.5285 - root_mean_squared_error: 0.1316 - val_loss: 0.5455 - val_root_mean_squared_error: 0.1555\n",
            "Epoch 10/20\n",
            "4500/4500 [==============================] - 19s 4ms/step - loss: 0.5272 - root_mean_squared_error: 0.1297 - val_loss: 0.5450 - val_root_mean_squared_error: 0.1550\n",
            "Epoch 11/20\n",
            "4500/4500 [==============================] - 19s 4ms/step - loss: 0.5264 - root_mean_squared_error: 0.1287 - val_loss: 0.5455 - val_root_mean_squared_error: 0.1558\n",
            "Epoch 12/20\n",
            "4500/4500 [==============================] - 19s 4ms/step - loss: 0.5255 - root_mean_squared_error: 0.1272 - val_loss: 0.5454 - val_root_mean_squared_error: 0.1553\n",
            "Epoch 13/20\n",
            "4500/4500 [==============================] - 19s 4ms/step - loss: 0.5248 - root_mean_squared_error: 0.1263 - val_loss: 0.5450 - val_root_mean_squared_error: 0.1549\n",
            "Epoch 14/20\n",
            "4500/4500 [==============================] - 19s 4ms/step - loss: 0.5246 - root_mean_squared_error: 0.1260 - val_loss: 0.5454 - val_root_mean_squared_error: 0.1554\n",
            "Epoch 15/20\n",
            "4500/4500 [==============================] - 19s 4ms/step - loss: 0.5236 - root_mean_squared_error: 0.1244 - val_loss: 0.5453 - val_root_mean_squared_error: 0.1552\n",
            "Epoch 16/20\n",
            "4500/4500 [==============================] - 19s 4ms/step - loss: 0.5234 - root_mean_squared_error: 0.1241 - val_loss: 0.5451 - val_root_mean_squared_error: 0.1550\n",
            "Epoch 17/20\n",
            "4500/4500 [==============================] - 19s 4ms/step - loss: 0.5226 - root_mean_squared_error: 0.1230 - val_loss: 0.5453 - val_root_mean_squared_error: 0.1553\n",
            "Epoch 18/20\n",
            "4500/4500 [==============================] - 18s 4ms/step - loss: 0.5228 - root_mean_squared_error: 0.1231 - val_loss: 0.5452 - val_root_mean_squared_error: 0.1552\n",
            "Epoch 19/20\n",
            "4500/4500 [==============================] - 19s 4ms/step - loss: 0.5221 - root_mean_squared_error: 0.1220 - val_loss: 0.5446 - val_root_mean_squared_error: 0.1543\n",
            "Epoch 20/20\n",
            "4500/4500 [==============================] - 19s 4ms/step - loss: 0.5218 - root_mean_squared_error: 0.1216 - val_loss: 0.5450 - val_root_mean_squared_error: 0.1549\n"
          ]
        }
      ]
    },
    {
      "cell_type": "markdown",
      "metadata": {
        "id": "3FLTkMGVsEHa"
      },
      "source": [
        "## Visualisasi"
      ]
    },
    {
      "cell_type": "markdown",
      "metadata": {
        "id": "K_6gWDc4jEK-"
      },
      "source": [
        "Kode berikut digunakan untuk menampilkan hasil fit dalam bentuk grafik."
      ]
    },
    {
      "cell_type": "code",
      "metadata": {
        "colab": {
          "base_uri": "https://localhost:8080/",
          "height": 295
        },
        "id": "eJsdtN3OvWfp",
        "outputId": "2bf90227-ca1d-40c1-e1a8-4160fa7ec5ea"
      },
      "source": [
        "plt.plot(history.history['root_mean_squared_error'])\n",
        "plt.plot(history.history['val_root_mean_squared_error'])\n",
        "plt.title('Matrix Model')\n",
        "plt.ylabel('RMSE')\n",
        "plt.xlabel('Epoch')\n",
        "plt.legend(['train', 'test'], loc='upper left')\n",
        "plt.show()"
      ],
      "execution_count": 59,
      "outputs": [
        {
          "output_type": "display_data",
          "data": {
            "image/png": "[encoded data removed]",
            "text/plain": [
              "<Figure size 432x288 with 1 Axes>"
            ]
          },
          "metadata": {
            "needs_background": "light"
          }
        }
      ]
    },
    {
      "cell_type": "markdown",
      "metadata": {
        "id": "Jh7W9plasIba"
      },
      "source": [
        "## Rekomendasi"
      ]
    },
    {
      "cell_type": "markdown",
      "metadata": {
        "id": "mgt00aBIkbQH"
      },
      "source": [
        "Kode berikut digunakan untuk menetapkan variabel anime_dataset dan rating_dataset."
      ]
    },
    {
      "cell_type": "code",
      "metadata": {
        "id": "jqlSt0MgvZ3s"
      },
      "source": [
        "anime_dataset =  anime\n",
        "rating_dataset = rating_dataset"
      ],
      "execution_count": 60,
      "outputs": []
    },
    {
      "cell_type": "markdown",
      "metadata": {
        "id": "z9E7OiK7kpF0"
      },
      "source": [
        "Kode berikut digunakan untuk mengambil user_id secara acak dan melihat anime apa saja yang telah ia tonton."
      ]
    },
    {
      "cell_type": "code",
      "metadata": {
        "id": "kcKZRbu1va0B"
      },
      "source": [
        "user_id = rating_dataset.user_id.sample(1).iloc[0]\n",
        "anime_have_been_watched_by_user = rating_dataset[rating_dataset.user_id == user_id]\n",
        " \n",
        "anime_have_not_been_watched_by_user = anime_dataset[anime_dataset['anime_id'].isin(anime_have_been_watched_by_user.anime_id.values)]['anime_id'] \n",
        "anime_have_not_been_watched_by_user = list(\n",
        "    set(anime_have_not_been_watched_by_user)\n",
        "    .intersection(set(anime_to_anime_encoded.keys()))\n",
        ")\n",
        " \n",
        "anime_have_not_been_watched_by_user = [[anime_to_anime_encoded.get(x)] for x in anime_have_not_been_watched_by_user]\n",
        "user_encoder = user_to_user_encoded.get(user_id)\n",
        "user_anime_array = np.hstack(\n",
        "    ([[user_encoder]] * len(anime_have_not_been_watched_by_user), anime_have_not_been_watched_by_user)\n",
        ")"
      ],
      "execution_count": 61,
      "outputs": []
    },
    {
      "cell_type": "markdown",
      "metadata": {
        "id": "tGwqjnOFk5BI"
      },
      "source": [
        "Kode berikut digunakan untuk memberikan rekomendasi anime sebanyak 10 buah."
      ]
    },
    {
      "cell_type": "code",
      "metadata": {
        "colab": {
          "base_uri": "https://localhost:8080/"
        },
        "id": "A5YthkI2wDaz",
        "outputId": "ad7b6c42-97be-41e9-a54d-fc92bc74b586"
      },
      "source": [
        "ratings = model.predict(user_anime_array).flatten()\n",
        " \n",
        "top_ratings_indices = ratings.argsort()[-10:][::-1]\n",
        "recommended_anime_id = [\n",
        "    anime_encoded_to_anime.get(anime_have_not_been_watched_by_user[x][0]) for x in top_ratings_indices\n",
        "]\n",
        " \n",
        "top_anime_recommended = (\n",
        "    anime_have_been_watched_by_user.sort_values(\n",
        "        by = 'rating',\n",
        "        ascending=False\n",
        "    )\n",
        "    .head(5)\n",
        "    .anime_id.values\n",
        ")\n",
        " \n",
        "anime_row = anime_dataset[anime_dataset['anime_id'].isin(top_anime_recommended)]\n",
        "for row in anime_row.itertuples():\n",
        "    print(row.anime_name, ':', row.studio)\n",
        " \n",
        "print('----' * 12)\n",
        "print('Top 10 anime Recommendation for user: {}'.format(user_id))\n",
        "print('----' * 12)\n",
        " \n",
        "recommended_anime = anime_dataset[anime_dataset['anime_id'].isin(recommended_anime_id)]\n",
        "\n",
        "i=1\n",
        "for row in recommended_anime.itertuples():\n",
        "    print('{}. '.format(i), row.anime_name, ':', row.studio)\n",
        "    i+=1"
      ],
      "execution_count": 62,
      "outputs": [
        {
          "output_type": "stream",
          "name": "stdout",
          "text": [
            "Great Teacher Onizuka : Studio Pierrot\n",
            "Fullmetal Alchemist: Brotherhood : Bones\n",
            "Love Live! School Idol Project : Sunrise\n",
            "Kekkai Sensen : Bones\n",
            "JoJo no Kimyou na Bouken Part 3: Stardust Crusaders 2nd Season : David Production\n",
            "------------------------------------------------\n",
            "Top 10 anime Recommendation for user: 211\n",
            "------------------------------------------------\n",
            "1.  Kenpuu Denki Berserk : OLM\n",
            "2.  Great Teacher Onizuka : Studio Pierrot\n",
            "3.  Hajime no Ippo : Madhouse\n",
            "4.  Tengen Toppa Gurren Lagann : Gainax\n",
            "5.  Clannad: After Story : Kyoto Animation\n",
            "6.  Fullmetal Alchemist: Brotherhood : Bones\n",
            "7.  Rainbow: Nisha Rokubou no Shichinin : Madhouse\n",
            "8.  Steins;Gate : White Fox\n",
            "9.  Hunter x Hunter (2011) : Madhouse\n",
            "10.  Monogatari Series: Second Season : Shaft\n"
          ]
        }
      ]
    }
  ]
}